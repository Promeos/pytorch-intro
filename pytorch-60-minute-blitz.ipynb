{
 "cells": [
  {
   "cell_type": "markdown",
   "metadata": {},
   "source": [
    "# Module 1: _What_ is PyTorch?\n",
    "---\n",
    "[Source](https://pytorch.org/tutorials/beginner/blitz/tensor_tutorial.html#sphx-glr-beginner-blitz-tensor-tutorial-py) for this tutorial\n",
    "\n",
    "<br></br>\n",
    "<dl>\n",
    "    <dt>PyTorch</dt>\n",
    "    <dd>is a Python-based computing package</dd>\n",
    "</dl>\n",
    "\n",
    "- A programming language that uses the power of GPU's to speed up calculations.\n",
    "> I don't have an <font color=green>NVIDIA GPU</font> at the moment but I'll press on.\n",
    ">\n",
    "> I'll rent one here -> [NVIDIA GPU in the clouds above](https://cloud.google.com/)\n",
    "- It's flexible and F.A.S.T.\n",
    "    > `Python` + \"...dang it's so fast it lit a <font color=red>_Torch_</font>\" == __`PyTorch`__\n"
   ]
  },
  {
   "cell_type": "markdown",
   "metadata": {},
   "source": [
    "## Getting Started\n",
    "### Tensors\n",
    "\n",
    "As I discovered in the first tutorial, `PyTorch` is similar to` NumPy`. Again, `PyTorch` uses __GPU's__, which makes it faster than `NumPy` for deep learning."
   ]
  },
  {
   "cell_type": "code",
   "execution_count": 1,
   "metadata": {},
   "outputs": [],
   "source": [
    "from __future__ import print_function\n",
    "import torch\n",
    "import numpy as np"
   ]
  },
  {
   "cell_type": "markdown",
   "metadata": {},
   "source": [
    "> \"An __uninitialized matrix__ is declared, but _does not_ contain __definite known values__ before it is used. When an uninitialized matrix is created, whatever values were in the allocated memory at the time will appear as the initial values.\"\n",
    "\n",
    "### Creating an empty Tensor"
   ]
  },
  {
   "cell_type": "code",
   "execution_count": 2,
   "metadata": {},
   "outputs": [
    {
     "name": "stdout",
     "output_type": "stream",
     "text": [
      "tensor([[7.8534e+34, 4.7418e+30, 5.9663e-02],\n",
      "        [7.0374e+22, 1.8370e-24, 4.5761e-41],\n",
      "        [1.8384e-24, 4.5761e-41, 0.0000e+00],\n",
      "        [-0.0000e+00, 0.0000e+00, -0.0000e+00],\n",
      "        [7.0065e-45, 0.0000e+00, 2.4858e-27]])\n"
     ]
    }
   ],
   "source": [
    "# Creating an 'uninitialized matrix' with `tensor.empty()`\n",
    "# So does it not have values?\n",
    "x = torch.empty(5, 3)\n",
    "print(x)"
   ]
  },
  {
   "cell_type": "code",
   "execution_count": 3,
   "metadata": {},
   "outputs": [
    {
     "data": {
      "text/plain": [
       "tensor([[7.8534e+34, 4.7418e+30, 1.0597e+00],\n",
       "        [7.0374e+22, 1.0000e+00, 1.0000e+00],\n",
       "        [1.0000e+00, 1.0000e+00, 1.0000e+00],\n",
       "        [1.0000e+00, 1.0000e+00, 1.0000e+00],\n",
       "        [1.0000e+00, 1.0000e+00, 1.0000e+00]])"
      ]
     },
     "execution_count": 3,
     "metadata": {},
     "output_type": "execute_result"
    }
   ],
   "source": [
    "# Interesting, the \"values\" (0's) that were placed in the empty tensor matrix\n",
    "# changed to actual values once operated on...\n",
    "x + 1"
   ]
  },
  {
   "cell_type": "markdown",
   "metadata": {},
   "source": [
    "### Creating a Random Martrix"
   ]
  },
  {
   "cell_type": "code",
   "execution_count": 4,
   "metadata": {},
   "outputs": [],
   "source": [
    "# torch.randn?"
   ]
  },
  {
   "cell_type": "code",
   "execution_count": 5,
   "metadata": {},
   "outputs": [
    {
     "name": "stdout",
     "output_type": "stream",
     "text": [
      "tensor([[ 0.4276,  1.4313,  1.2628, -0.2496,  1.0323,  0.5416,  0.4352],\n",
      "        [-3.0330,  0.1912, -1.1010,  1.1629,  1.6543,  0.4064,  0.3225],\n",
      "        [-1.6706,  2.3859, -0.8687, -0.5788, -0.7671, -0.3924, -0.6649],\n",
      "        [-1.2202, -1.0804, -1.4667,  2.6101,  1.2513,  0.2201,  0.2421],\n",
      "        [ 0.1922, -0.6165,  1.4149, -0.0896, -0.6952,  1.4619,  0.5771]],\n",
      "       dtype=torch.float64)\n"
     ]
    }
   ],
   "source": [
    "x = torch.randn(5, 7, dtype=torch.float64)\n",
    "print(x)"
   ]
  },
  {
   "cell_type": "markdown",
   "metadata": {},
   "source": [
    "### Creating a Matrix of Zeros and Ones\n",
    "\n",
    "https://pytorch.org/docs/stable/tensors.html"
   ]
  },
  {
   "cell_type": "code",
   "execution_count": 6,
   "metadata": {},
   "outputs": [
    {
     "data": {
      "text/plain": [
       "tensor([[0, 0, 0, 0, 0],\n",
       "        [0, 0, 0, 0, 0],\n",
       "        [0, 0, 0, 0, 0],\n",
       "        [0, 0, 0, 0, 0],\n",
       "        [0, 0, 0, 0, 0]])"
      ]
     },
     "execution_count": 6,
     "metadata": {},
     "output_type": "execute_result"
    }
   ],
   "source": [
    "torch.zeros(5, 5, dtype=torch.long)  # 64-bit integer (signed)"
   ]
  },
  {
   "cell_type": "code",
   "execution_count": 7,
   "metadata": {},
   "outputs": [
    {
     "data": {
      "text/plain": [
       "tensor([[False, False, False, False, False],\n",
       "        [False, False, False, False, False],\n",
       "        [False, False, False, False, False],\n",
       "        [False, False, False, False, False],\n",
       "        [False, False, False, False, False]])"
      ]
     },
     "execution_count": 7,
     "metadata": {},
     "output_type": "execute_result"
    }
   ],
   "source": [
    "torch.zeros(5, 5, dtype=torch.bool)"
   ]
  },
  {
   "cell_type": "code",
   "execution_count": 8,
   "metadata": {},
   "outputs": [
    {
     "data": {
      "text/plain": [
       "tensor([[1., 1., 1., 1., 1.],\n",
       "        [1., 1., 1., 1., 1.],\n",
       "        [1., 1., 1., 1., 1.],\n",
       "        [1., 1., 1., 1., 1.],\n",
       "        [1., 1., 1., 1., 1.]], dtype=torch.float64)"
      ]
     },
     "execution_count": 8,
     "metadata": {},
     "output_type": "execute_result"
    }
   ],
   "source": [
    "torch.ones(5, 5, dtype=torch.float64)"
   ]
  },
  {
   "cell_type": "code",
   "execution_count": 9,
   "metadata": {},
   "outputs": [
    {
     "data": {
      "text/plain": [
       "tensor([[True, True, True, True, True],\n",
       "        [True, True, True, True, True],\n",
       "        [True, True, True, True, True],\n",
       "        [True, True, True, True, True],\n",
       "        [True, True, True, True, True]])"
      ]
     },
     "execution_count": 9,
     "metadata": {},
     "output_type": "execute_result"
    }
   ],
   "source": [
    "torch.ones(5, 5, dtype=torch.bool)"
   ]
  },
  {
   "cell_type": "code",
   "execution_count": 10,
   "metadata": {},
   "outputs": [
    {
     "data": {
      "text/plain": [
       "tensor([[1.+0.j, 1.+0.j, 1.+0.j],\n",
       "        [1.+0.j, 1.+0.j, 1.+0.j],\n",
       "        [1.+0.j, 1.+0.j, 1.+0.j]], dtype=torch.complex128)"
      ]
     },
     "execution_count": 10,
     "metadata": {},
     "output_type": "execute_result"
    }
   ],
   "source": [
    "torch.ones(3, 3, dtype=torch.cdouble)"
   ]
  },
  {
   "cell_type": "markdown",
   "metadata": {},
   "source": [
    "#### Notes\n",
    "PyTorch tensors are unable to infer True as 1 and False as 0's\n",
    "``` python\n",
    "torch.ones(5, 5, dtype=torch.bool).mean()\n",
    "```\n",
    "<font color=red>RuntimeError</font>: Can only calculate the mean of floating types. Got Bool instead.\n",
    "\n",
    "\n",
    "### Create a Tensor from Data"
   ]
  },
  {
   "cell_type": "code",
   "execution_count": 11,
   "metadata": {},
   "outputs": [],
   "source": [
    "# Create a Tensor using NumPy to generate data\n",
    "x = torch.tensor(np.random.randint(1, 11, size=(10, 10)))\n",
    "\n",
    "# Create a Tensor using PyTorch built in method `.randint()`\n",
    "y = torch.randint(1, 11, size=(10, 10))"
   ]
  },
  {
   "cell_type": "code",
   "execution_count": 12,
   "metadata": {},
   "outputs": [
    {
     "name": "stdout",
     "output_type": "stream",
     "text": [
      "torch.int64\n"
     ]
    },
    {
     "data": {
      "text/plain": [
       "tensor([[ 6, 10,  4,  5,  2,  9,  1,  8,  9,  3],\n",
       "        [ 7,  4, 10,  6,  1,  2,  4,  3,  6,  8],\n",
       "        [ 4,  9,  6,  1,  9,  7,  7,  1,  4,  6],\n",
       "        [10,  5, 10,  6,  2,  6,  1, 10, 10,  2],\n",
       "        [ 2,  5,  1,  4,  8,  3, 10, 10,  2,  3],\n",
       "        [10,  4,  3,  5, 10,  7,  8,  7,  7, 10],\n",
       "        [ 4,  8, 10,  4,  1,  6,  8,  9,  9,  9],\n",
       "        [ 8,  4,  6,  9,  7,  8,  2,  6,  5,  4],\n",
       "        [10,  5,  9,  7,  5,  4,  6,  4,  1,  1],\n",
       "        [ 9,  8,  5,  1,  5,  2, 10,  2,  8,  9]])"
      ]
     },
     "execution_count": 12,
     "metadata": {},
     "output_type": "execute_result"
    }
   ],
   "source": [
    "print(x.dtype)\n",
    "x"
   ]
  },
  {
   "cell_type": "code",
   "execution_count": 13,
   "metadata": {},
   "outputs": [
    {
     "name": "stdout",
     "output_type": "stream",
     "text": [
      "torch.int64\n"
     ]
    },
    {
     "data": {
      "text/plain": [
       "tensor([[ 2,  9,  7,  1, 10,  8,  5,  3,  4,  8],\n",
       "        [ 4,  5,  7,  7,  1,  4,  2, 10,  4,  2],\n",
       "        [ 5, 10,  9,  8,  1,  6,  6,  6,  7,  1],\n",
       "        [ 5,  4,  9,  3,  6,  7,  7,  1, 10,  6],\n",
       "        [ 2,  7,  2,  4, 10,  3,  8,  6,  3,  2],\n",
       "        [ 4,  5,  2,  1,  1,  3,  7,  6,  9,  4],\n",
       "        [ 7,  9,  1,  1,  3,  3, 10,  4,  9, 10],\n",
       "        [ 3,  1,  5,  4,  5,  2,  8,  2,  4,  5],\n",
       "        [ 9,  9,  4,  1,  5,  8,  7,  7,  6,  6],\n",
       "        [ 2,  5,  3,  3,  3,  7,  8,  2,  3,  7]])"
      ]
     },
     "execution_count": 13,
     "metadata": {},
     "output_type": "execute_result"
    }
   ],
   "source": [
    "print(y.dtype)\n",
    "y"
   ]
  },
  {
   "cell_type": "markdown",
   "metadata": {},
   "source": [
    "### Create a Tensor based on an existing Tensor\n",
    "#### Creating Tensors with new dimensions, dtypes, and requires_grad"
   ]
  },
  {
   "cell_type": "code",
   "execution_count": 14,
   "metadata": {},
   "outputs": [],
   "source": [
    "# Using .new_*() methods, we can create new Tensors!\n",
    "# If needed, we can also change the dtype\n",
    "\n",
    "new_x1 = x.new_ones(3, 3)\n",
    "new_x2 = x.new_ones(5, 5, dtype=torch.double)"
   ]
  },
  {
   "cell_type": "code",
   "execution_count": 15,
   "metadata": {},
   "outputs": [
    {
     "name": "stdout",
     "output_type": "stream",
     "text": [
      "torch.int64\n"
     ]
    },
    {
     "data": {
      "text/plain": [
       "tensor([[1, 1, 1],\n",
       "        [1, 1, 1],\n",
       "        [1, 1, 1]])"
      ]
     },
     "execution_count": 15,
     "metadata": {},
     "output_type": "execute_result"
    }
   ],
   "source": [
    "print(new_x1.dtype)\n",
    "new_x1"
   ]
  },
  {
   "cell_type": "code",
   "execution_count": 16,
   "metadata": {},
   "outputs": [
    {
     "name": "stdout",
     "output_type": "stream",
     "text": [
      "torch.float64\n"
     ]
    },
    {
     "data": {
      "text/plain": [
       "tensor([[1., 1., 1., 1., 1.],\n",
       "        [1., 1., 1., 1., 1.],\n",
       "        [1., 1., 1., 1., 1.],\n",
       "        [1., 1., 1., 1., 1.],\n",
       "        [1., 1., 1., 1., 1.]], dtype=torch.float64)"
      ]
     },
     "execution_count": 16,
     "metadata": {},
     "output_type": "execute_result"
    }
   ],
   "source": [
    "print(new_x2.dtype)\n",
    "new_x2"
   ]
  },
  {
   "cell_type": "markdown",
   "metadata": {},
   "source": [
    "The newly created Tensors do not have `requires_grad=True` because:\n",
    "1. The original Tensor it was created from did not have `requires_grad=True`\n",
    "2. When creating the Tensor from an exisiting Tensor, __WE__ did not specifiy `requires_grad=True`.\n",
    "\n",
    ">__REMINDER__! `requires_grad=True` can only be set on Tensors of `dtype=float`!\n",
    "> Example:\n",
    "> ``` python\n",
    "> # new_x1.dtype >>> torch.int64\n",
    "new_x1.requires_grad_()\n",
    "> ```\n",
    "> If you try to set `requires_grad=True` on a Tensor of dtype `torch.int64` you'll get the following error.\n",
    ">\n",
    "> <font color=red>RuntimeError</font>:\n",
    ">```python \n",
    "Only Tensors of float point dtype can require gradients\n",
    "```"
   ]
  },
  {
   "cell_type": "code",
   "execution_count": 17,
   "metadata": {},
   "outputs": [
    {
     "name": "stdout",
     "output_type": "stream",
     "text": [
      "False\n",
      "False\n"
     ]
    }
   ],
   "source": [
    "print(new_x1.requires_grad)\n",
    "print(new_x2.requires_grad)"
   ]
  },
  {
   "cell_type": "code",
   "execution_count": 18,
   "metadata": {},
   "outputs": [
    {
     "name": "stdout",
     "output_type": "stream",
     "text": [
      "tensor([[1., 1., 1., 1., 1.],\n",
      "        [1., 1., 1., 1., 1.],\n",
      "        [1., 1., 1., 1., 1.],\n",
      "        [1., 1., 1., 1., 1.],\n",
      "        [1., 1., 1., 1., 1.]], dtype=torch.float64, requires_grad=True)\n"
     ]
    }
   ],
   "source": [
    "# print(new_x1.requires_grad_())\n",
    "\n",
    "# Now our new tensor has memory.\n",
    "print(new_x2.requires_grad_())"
   ]
  },
  {
   "cell_type": "markdown",
   "metadata": {},
   "source": [
    "### Creating Tensors from Tensors using the SAME dimensions, different dtypes, requires_grad"
   ]
  },
  {
   "cell_type": "code",
   "execution_count": 19,
   "metadata": {},
   "outputs": [],
   "source": [
    "# x was initialized with the data type `int`\n",
    "x_new_full = x.new_full(x.shape, 10, dtype=float).requires_grad_()\n",
    "y_new_full = x.new_full(x.size(), 10, dtype=float).requires_grad_()"
   ]
  },
  {
   "cell_type": "code",
   "execution_count": 20,
   "metadata": {},
   "outputs": [
    {
     "name": "stdout",
     "output_type": "stream",
     "text": [
      "torch.Size([10, 10])\n",
      "torch.Size([10, 10])\n",
      "torch.int64\n"
     ]
    }
   ],
   "source": [
    "print(x.shape)\n",
    "print(x.size())\n",
    "print(x.dtype)"
   ]
  },
  {
   "cell_type": "code",
   "execution_count": 21,
   "metadata": {},
   "outputs": [
    {
     "name": "stdout",
     "output_type": "stream",
     "text": [
      "x\n",
      "torch.Size([10, 10])\n",
      "torch.float64\n",
      "\n",
      "y\n",
      "torch.Size([10, 10])\n",
      "torch.float64\n"
     ]
    }
   ],
   "source": [
    "print('x')\n",
    "print(x_new_full.shape)\n",
    "print(x_new_full.dtype)\n",
    "\n",
    "print('\\ny')\n",
    "print(y_new_full.shape)\n",
    "print(y_new_full.dtype)"
   ]
  },
  {
   "cell_type": "markdown",
   "metadata": {},
   "source": [
    "### Operations"
   ]
  },
  {
   "cell_type": "code",
   "execution_count": 22,
   "metadata": {},
   "outputs": [],
   "source": [
    "x = torch.rand(5, 3)\n",
    "y = torch.rand(5, 3)"
   ]
  },
  {
   "cell_type": "code",
   "execution_count": 23,
   "metadata": {},
   "outputs": [
    {
     "name": "stdout",
     "output_type": "stream",
     "text": [
      "tensor([[1.2748, 1.3483, 1.3794],\n",
      "        [1.1434, 1.1619, 0.2663],\n",
      "        [0.8210, 1.4265, 0.5300],\n",
      "        [0.8416, 0.3856, 0.5444],\n",
      "        [1.2392, 1.0543, 0.7336]])\n"
     ]
    }
   ],
   "source": [
    "print(x + y)"
   ]
  },
  {
   "cell_type": "code",
   "execution_count": 24,
   "metadata": {},
   "outputs": [
    {
     "name": "stdout",
     "output_type": "stream",
     "text": [
      "tensor([[1.2748, 1.3483, 1.3794],\n",
      "        [1.1434, 1.1619, 0.2663],\n",
      "        [0.8210, 1.4265, 0.5300],\n",
      "        [0.8416, 0.3856, 0.5444],\n",
      "        [1.2392, 1.0543, 0.7336]])\n"
     ]
    }
   ],
   "source": [
    "print(torch.add(x, y))"
   ]
  },
  {
   "cell_type": "code",
   "execution_count": 25,
   "metadata": {},
   "outputs": [
    {
     "name": "stdout",
     "output_type": "stream",
     "text": [
      "tensor([[1.2748, 1.3483, 1.3794],\n",
      "        [1.1434, 1.1619, 0.2663],\n",
      "        [0.8210, 1.4265, 0.5300],\n",
      "        [0.8416, 0.3856, 0.5444],\n",
      "        [1.2392, 1.0543, 0.7336]])\n"
     ]
    }
   ],
   "source": [
    "result = torch.empty(5, 3)\n",
    "torch.add(x, y, out=result)\n",
    "print(result)"
   ]
  },
  {
   "cell_type": "code",
   "execution_count": 26,
   "metadata": {},
   "outputs": [
    {
     "data": {
      "text/plain": [
       "tensor([[1.2748, 1.3483, 1.3794],\n",
       "        [1.1434, 1.1619, 0.2663],\n",
       "        [0.8210, 1.4265, 0.5300],\n",
       "        [0.8416, 0.3856, 0.5444],\n",
       "        [1.2392, 1.0543, 0.7336]])"
      ]
     },
     "execution_count": 26,
     "metadata": {},
     "output_type": "execute_result"
    }
   ],
   "source": [
    "y.add_(x)"
   ]
  },
  {
   "cell_type": "code",
   "execution_count": 27,
   "metadata": {},
   "outputs": [
    {
     "data": {
      "text/plain": [
       "tensor([[1.2748, 1.3483, 1.3794],\n",
       "        [1.1434, 1.1619, 0.2663],\n",
       "        [0.8210, 1.4265, 0.5300],\n",
       "        [0.8416, 0.3856, 0.5444],\n",
       "        [1.2392, 1.0543, 0.7336]])"
      ]
     },
     "execution_count": 27,
     "metadata": {},
     "output_type": "execute_result"
    }
   ],
   "source": [
    "y"
   ]
  },
  {
   "cell_type": "code",
   "execution_count": 28,
   "metadata": {},
   "outputs": [
    {
     "name": "stdout",
     "output_type": "stream",
     "text": [
      "torch.Size([4, 4]) torch.Size([16]) torch.Size([2, 8])\n"
     ]
    }
   ],
   "source": [
    "x = torch.randn(4, 4)\n",
    "y = x.view(16)\n",
    "z = x.view(-1, 8)\n",
    "print(x.size(), y.shape, z.size())"
   ]
  },
  {
   "cell_type": "code",
   "execution_count": 29,
   "metadata": {},
   "outputs": [],
   "source": [
    "x = torch.randint(1, 11, size=(3, 3))"
   ]
  },
  {
   "cell_type": "code",
   "execution_count": 30,
   "metadata": {},
   "outputs": [
    {
     "name": "stdout",
     "output_type": "stream",
     "text": [
      "tensor([[ 8,  9,  7],\n",
      "        [ 5,  3,  3],\n",
      "        [ 9, 10,  4]])\n"
     ]
    },
    {
     "data": {
      "text/plain": [
       "8"
      ]
     },
     "execution_count": 30,
     "metadata": {},
     "output_type": "execute_result"
    }
   ],
   "source": [
    "print(x)\n",
    "x[0,0].item()"
   ]
  },
  {
   "cell_type": "markdown",
   "metadata": {},
   "source": [
    "### NumPy Bridge\n",
    "---\n",
    "Converting a Torch Tensor to a NumPy array and vice a versa."
   ]
  },
  {
   "cell_type": "code",
   "execution_count": 31,
   "metadata": {},
   "outputs": [
    {
     "data": {
      "text/plain": [
       "tensor([1., 1., 1., 1., 1.])"
      ]
     },
     "execution_count": 31,
     "metadata": {},
     "output_type": "execute_result"
    }
   ],
   "source": [
    "a = torch.ones(5)\n",
    "a"
   ]
  },
  {
   "cell_type": "code",
   "execution_count": 32,
   "metadata": {},
   "outputs": [
    {
     "name": "stdout",
     "output_type": "stream",
     "text": [
      "[1. 1. 1. 1. 1.]\n",
      "float32\n"
     ]
    }
   ],
   "source": [
    "b = a.numpy()\n",
    "print(b)\n",
    "print(b.dtype)"
   ]
  },
  {
   "cell_type": "code",
   "execution_count": 33,
   "metadata": {},
   "outputs": [
    {
     "data": {
      "text/plain": [
       "tensor([2., 2., 2., 2., 2.])"
      ]
     },
     "execution_count": 33,
     "metadata": {},
     "output_type": "execute_result"
    }
   ],
   "source": [
    "a.add_(1)"
   ]
  },
  {
   "cell_type": "code",
   "execution_count": 34,
   "metadata": {},
   "outputs": [
    {
     "data": {
      "text/plain": [
       "array([2., 2., 2., 2., 2.], dtype=float32)"
      ]
     },
     "execution_count": 34,
     "metadata": {},
     "output_type": "execute_result"
    }
   ],
   "source": [
    "b"
   ]
  },
  {
   "cell_type": "markdown",
   "metadata": {},
   "source": [
    "Converting a NumPy Array to Torch Tensor"
   ]
  },
  {
   "cell_type": "code",
   "execution_count": 35,
   "metadata": {},
   "outputs": [
    {
     "name": "stdout",
     "output_type": "stream",
     "text": [
      "[2. 2. 2. 2. 2.]\n",
      "tensor([2., 2., 2., 2., 2.], dtype=torch.float64)\n"
     ]
    }
   ],
   "source": [
    "a = np.ones(5)\n",
    "b = torch.from_numpy(a)\n",
    "np.add(a, 1, out=a)\n",
    "print(a)\n",
    "print(b)"
   ]
  },
  {
   "cell_type": "code",
   "execution_count": 36,
   "metadata": {},
   "outputs": [],
   "source": [
    "if torch.cuda.is_available():\n",
    "    device = torch.device(\"cuda\")          # a CUDA device object\n",
    "    y = torch.ones_like(x, device=device)  # directly create a tensor on GPU\n",
    "    x = x.to(device)                       # or just use strings ``.to(\"cuda\")``\n",
    "    z = x + y\n",
    "    print(z)\n",
    "    print(z.to(\"cpu\", torch.double))       # ``.to`` can also change dtype together!\n"
   ]
  },
  {
   "cell_type": "code",
   "execution_count": 37,
   "metadata": {},
   "outputs": [
    {
     "data": {
      "text/plain": [
       "device(type='cpu')"
      ]
     },
     "execution_count": 37,
     "metadata": {},
     "output_type": "execute_result"
    }
   ],
   "source": [
    "torch.device(\"cpu\")"
   ]
  },
  {
   "cell_type": "code",
   "execution_count": 38,
   "metadata": {},
   "outputs": [
    {
     "data": {
      "text/plain": [
       "device(type='cuda')"
      ]
     },
     "execution_count": 38,
     "metadata": {},
     "output_type": "execute_result"
    }
   ],
   "source": [
    "torch.device(\"cuda\")"
   ]
  },
  {
   "cell_type": "code",
   "execution_count": 39,
   "metadata": {},
   "outputs": [
    {
     "data": {
      "text/plain": [
       "False"
      ]
     },
     "execution_count": 39,
     "metadata": {},
     "output_type": "execute_result"
    }
   ],
   "source": [
    "torch.cuda.is_available()"
   ]
  },
  {
   "cell_type": "markdown",
   "metadata": {},
   "source": [
    "# Module 2 Autograd: Automatic Differentiation\n",
    "---\n",
    "[Source](https://pytorch.org/tutorials/beginner/blitz/autograd_tutorial.html) of this tutorial\n",
    "\n",
    "PyTorch functions for auto-gradient implementation:\n",
    "1. `torch.tensor`\n",
    "1. `torch.tensor.requires_grad_()`\n",
    "1. `torch.tensor.backward()`\n",
    "1. `tensor.detach()`\n",
    "1. `tensor.grad_fn`\n",
    "\n",
    "The `autograd` package is the cornerstone to all neural networks in `PyTorch`.\n",
    "- `autograd` provides automatic differentiation fot all operations on all tensors. MEMORY\n",
    "- Backpropagation is defined by how your code is excuted.\n",
    "- Every iteration can be different.\n",
    "\n",
    "## Tensor\n",
    "---\n",
    "__`torch.tensor`__ is the fundamental building block in PyTorch.\n",
    "> If `requires_grad=True`, the tensor begins to \"remember\" all operations on it.\n",
    ">\n",
    "> When you call `.backward()` on a `torch.tensor` object that has the attribute `requires_grad=True`, all gradients are computed automatically.\n",
    "    > - The gradient is stored in the `.grad` attribute.\n",
    "\n",
    "To remove a tensor's \"memory\" use `.detach()` to detach it from the computational history. Detach it from its \"experience\". The tensor will also not be able to \"remember\" any future computations performed on it.\n",
    "\n",
    "To prevent a torch from having memory, wrap the code block with:\n",
    "> `with torch.no_grad():`\n",
    "\n",
    "Note: Useful when evaluating a model because the model may have \"trainable parameters\" with `requires_grad=True` and we __don't need the gradients__.\n",
    "\n",
    "`Function`"
   ]
  },
  {
   "cell_type": "code",
   "execution_count": 40,
   "metadata": {},
   "outputs": [],
   "source": [
    "x = torch.tensor([1, 2, 3], dtype=float, requires_grad=True)\n",
    "y = torch.tensor([1, 2, 3], dtype=float, requires_grad=True)\n",
    "z = x + y"
   ]
  },
  {
   "cell_type": "code",
   "execution_count": 41,
   "metadata": {},
   "outputs": [
    {
     "name": "stdout",
     "output_type": "stream",
     "text": [
      "tensor([1., 2., 3.], dtype=torch.float64, requires_grad=True)\n",
      "tensor([1., 2., 3.], dtype=torch.float64, requires_grad=True)\n"
     ]
    }
   ],
   "source": [
    "print(x)\n",
    "print(y)"
   ]
  },
  {
   "cell_type": "code",
   "execution_count": 42,
   "metadata": {},
   "outputs": [
    {
     "name": "stdout",
     "output_type": "stream",
     "text": [
      "tensor([2., 4., 6.], dtype=torch.float64, grad_fn=<AddBackward0>)\n"
     ]
    }
   ],
   "source": [
    "# Notice that when we create a new tensor by adding two tensors that have `requires_grad`=True,\n",
    "# The new tensor `z` has memory of how it was created grad_fn=<AddBackward0>.\n",
    "# It knows it was created by addition!\n",
    "print(z)"
   ]
  },
  {
   "cell_type": "code",
   "execution_count": 43,
   "metadata": {},
   "outputs": [],
   "source": [
    "# Create a new tensor by mulitplying two existing tensors and a value/scaler\n",
    "a = z * z * 10\n",
    "a_scalar = a.mean()"
   ]
  },
  {
   "cell_type": "code",
   "execution_count": 44,
   "metadata": {},
   "outputs": [
    {
     "name": "stdout",
     "output_type": "stream",
     "text": [
      "tensor([ 40., 160., 360.], dtype=torch.float64, grad_fn=<MulBackward0>)\n",
      "tensor(186.6667, dtype=torch.float64, grad_fn=<MeanBackward0>)\n"
     ]
    }
   ],
   "source": [
    "# Reminder: Tensors can only contain float dtypes.\n",
    "\n",
    "# Similarly, tensor `a` knows that it was created grad_fn=<MulBackward0> == multiplication!\n",
    "print(a)\n",
    "\n",
    "# We'll use a_scalar in the next section gradients\n",
    "print(a_scalar)  # Interesting, this tensor remember the function used on it: grad_fn=<MeanBackward0>"
   ]
  },
  {
   "cell_type": "code",
   "execution_count": 45,
   "metadata": {},
   "outputs": [],
   "source": [
    "b = torch.randn(2, 3)\n",
    "b = ((b*10) / (b-1))"
   ]
  },
  {
   "cell_type": "code",
   "execution_count": 46,
   "metadata": {},
   "outputs": [
    {
     "name": "stdout",
     "output_type": "stream",
     "text": [
      "Does tensor `b` have autograd enabled? False\n"
     ]
    }
   ],
   "source": [
    "# Reminder: When you create new tensors, you must explicity set requires_grad=True\n",
    "\n",
    "# This tensor does not have autograd enabled. Tensors created from b will not have autograd enabled.\n",
    "print(f\"Does tensor `b` have autograd enabled? {b.requires_grad}\")"
   ]
  },
  {
   "cell_type": "code",
   "execution_count": 47,
   "metadata": {},
   "outputs": [
    {
     "data": {
      "text/plain": [
       "tensor([[15.9610, 27.9988, 20.3269],\n",
       "        [20.5709,  4.8980, -1.4169]], requires_grad=True)"
      ]
     },
     "execution_count": 47,
     "metadata": {},
     "output_type": "execute_result"
    }
   ],
   "source": [
    "# Use .requires_grad_() function to add backpropagation to the tensor `b`\n",
    "# Using .requires_grad_(True) modifies the tensor inplace, giving it memory.\n",
    "b.requires_grad_(True)"
   ]
  },
  {
   "cell_type": "code",
   "execution_count": 48,
   "metadata": {},
   "outputs": [
    {
     "name": "stdout",
     "output_type": "stream",
     "text": [
      "<MulBackward0 object at 0x7f9019586590>\n",
      "None\n",
      "<SumBackward0 object at 0x7f9019586590>\n"
     ]
    }
   ],
   "source": [
    "c = (a * b).sum()\n",
    "print(a.grad_fn)  # created from: z * z * 10\n",
    "print(b.grad_fn)  # A tensor created from scratch will not have memory. Only the ability to memorize.\n",
    "print(c.grad_fn)  # created from: (a * b).sum()"
   ]
  },
  {
   "cell_type": "markdown",
   "metadata": {},
   "source": [
    "## Gradients\n",
    "---"
   ]
  },
  {
   "cell_type": "code",
   "execution_count": 49,
   "metadata": {},
   "outputs": [],
   "source": [
    "# My first backpropagation!\n",
    "a_scalar.backward()"
   ]
  },
  {
   "cell_type": "markdown",
   "metadata": {},
   "source": [
    "Tensor `x` and tensor `y` are considered leaves, or leaf individually. These two tensors are the origin of `a_scalar`.\n",
    "When backpropagation is executed, the gradient calculations stop at `x` and `y`.\n",
    "\n",
    "`a_scaler` ----Backprop----> `a` ----Backprop----> `z` ----Backprop----> __`x` + `y`__"
   ]
  },
  {
   "cell_type": "code",
   "execution_count": 50,
   "metadata": {},
   "outputs": [
    {
     "name": "stdout",
     "output_type": "stream",
     "text": [
      "tensor([13.3333, 26.6667, 40.0000], dtype=torch.float64)\n",
      "tensor([13.3333, 26.6667, 40.0000], dtype=torch.float64)\n"
     ]
    }
   ],
   "source": [
    "print(x.grad)\n",
    "print(y.grad)"
   ]
  },
  {
   "cell_type": "markdown",
   "metadata": {},
   "source": [
    "Interesting. Tensor `z` is called a __non-leaf__. Similar to decision tree leafs/pure leafs, this tensor is considered a node. \n",
    "\n",
    "```python\n",
    "print(z.grad)\n",
    "```\n",
    "\n",
    "<div class='alert alert-block alert-danger'>UserWarning: The .grad attribute of a Tensor that is not a leaf Tensor is being accessed. Its .grad attribute won't be populated during autograd.backward(). If you indeed want the gradient for a non-leaf Tensor, use .retain_grad() on the non-leaf Tensor. If you access the non-leaf Tensor by mistake, make sure you access the leaf Tensor instead. See github.com/pytorch/pytorch/pull/30531 for more informations.\n",
    "This is separate from the ipykernel package so we can avoid doing imports until </div>\n",
    "  \n",
    "### Example of vector-Jacobian product  \n",
    "---"
   ]
  },
  {
   "cell_type": "code",
   "execution_count": 51,
   "metadata": {},
   "outputs": [
    {
     "name": "stdout",
     "output_type": "stream",
     "text": [
      "tensor([-1643.9825,   152.2675,   586.1190], grad_fn=<MulBackward0>)\n"
     ]
    }
   ],
   "source": [
    "# Reminder x2: When creating a new tensor, you must explicitly set requires_grad=True\n",
    "# To perform backprop and give the tensor memory.\n",
    "x = torch.randn(3, requires_grad=True)\n",
    "\n",
    "y = x * 2\n",
    "while y.data.norm() < 1000:  # x.data returns the values the tensor object with scalar values\n",
    "    y *= 2\n",
    "print(y)"
   ]
  },
  {
   "cell_type": "code",
   "execution_count": 52,
   "metadata": {},
   "outputs": [
    {
     "name": "stdout",
     "output_type": "stream",
     "text": [
      "tensor([1.0240e+02, 1.0240e+03, 1.0240e-01])\n"
     ]
    }
   ],
   "source": [
    "x.data.norm()\n",
    "\n",
    "v = torch.tensor([0.1, 1.0, 0.0001], dtype=torch.float)\n",
    "y.backward(v)\n",
    "\n",
    "print(x.grad)"
   ]
  },
  {
   "cell_type": "markdown",
   "metadata": {},
   "source": [
    "### Stop autograd\n",
    "---\n",
    "- `with torch.no_grad():` code block\n",
    "- `.requires_grad_(False)`\n",
    "- `.detach()`\n",
    "\n",
    "#### `with torch.no_grad():` code block\n",
    "- Wrapping a tensor that was created with requires_grad=True will not be able to pass its __memory abilities__ to new tensors."
   ]
  },
  {
   "cell_type": "code",
   "execution_count": 53,
   "metadata": {},
   "outputs": [
    {
     "name": "stdout",
     "output_type": "stream",
     "text": [
      "Does tensor `x` have autograd enabled?\n",
      "True\n",
      "\n",
      "What about a new tensor? Would it have autograd enabled it was created from tensor `x`?\n",
      "True\n",
      "\n",
      "Does tensor `x` have auto_grad enabled now that it's in a torch.no_grad() code block?\n",
      "True\n",
      "\n",
      "What about the new tensor? Would it have auto grad enabled now that it's inside a torch.no_grad(): code block?\n",
      "False\n"
     ]
    }
   ],
   "source": [
    "# Wrapping a tensor that has requires_grad=True inside a code block\n",
    "# That removes the tensors memory as long as it's in the code block\n",
    "\n",
    "# As we're learning, we know that tensors created from tensors that have requires_grad=True will\n",
    "# pass their memory ability to the new tensor\n",
    "print(f\"Does tensor `x` have autograd enabled?\")\n",
    "print(x.requires_grad)\n",
    "print(\"\\nWhat about a new tensor? Would it have autograd enabled it was created from tensor `x`?\")\n",
    "print((x**2).requires_grad)\n",
    "\n",
    "\n",
    "with torch.no_grad():\n",
    "    print(\"\\nDoes tensor `x` have auto_grad enabled now that it's in a torch.no_grad() code block?\")\n",
    "    print(x.requires_grad)\n",
    "    print(\"\\nWhat about the new tensor? Would it have auto grad enabled now that it's inside a torch.no_grad(): code block?\")\n",
    "    print((x**2).requires_grad)"
   ]
  },
  {
   "cell_type": "markdown",
   "metadata": {},
   "source": [
    "#### `.requires_grad_(False)`\n",
    "- Most explicit way to remove a tensors' memory is by using `tensor_name.requires_grad_(False)`. "
   ]
  },
  {
   "cell_type": "code",
   "execution_count": 54,
   "metadata": {},
   "outputs": [
    {
     "name": "stdout",
     "output_type": "stream",
     "text": [
      "Does tensor `x` have auto_grad enabled? True\n",
      "\n",
      "What about now? False\n"
     ]
    }
   ],
   "source": [
    "print(f\"Does tensor `x` have auto_grad enabled? {x.requires_grad}\")\n",
    "x.requires_grad_(False)\n",
    "print()\n",
    "print(f\"What about now? {x.requires_grad}\")"
   ]
  },
  {
   "cell_type": "markdown",
   "metadata": {},
   "source": [
    "#### `.detach`\n",
    "- Use `.detach()` to remove autograd but keep contents of tensor."
   ]
  },
  {
   "cell_type": "code",
   "execution_count": 55,
   "metadata": {},
   "outputs": [
    {
     "name": "stdout",
     "output_type": "stream",
     "text": [
      "Does tensor `x` have auto_grad enabled? True\n",
      "Does tensor `y` have auto_grad enabled? False\n",
      "\n",
      "Is tensor `x` equal to tensor `y`?\n",
      "tensor(True)\n",
      "tensor([True, True, True])\n"
     ]
    }
   ],
   "source": [
    "# Set tensor `x` with requires_grad=True to walkthrough using detach()\n",
    "x.requires_grad_(True)\n",
    "\n",
    "print(f\"Does tensor `x` have auto_grad enabled? {x.requires_grad}\")\n",
    "\n",
    "# Create a new tensor from `x` that does not have requires_grad=True. Remove its memory.\n",
    "y = x.detach()\n",
    "\n",
    "print(f\"Does tensor `y` have auto_grad enabled? {y.requires_grad}\", end='\\n\\n')\n",
    "\n",
    "# Although `y` does not have autograd enabled, both tensors contain the same values\n",
    "print(\"Is tensor `x` equal to tensor `y`?\")\n",
    "print(x.eq(y).all())\n",
    "\n",
    "# Another proof of equality\n",
    "print(x==y)"
   ]
  },
  {
   "cell_type": "markdown",
   "metadata": {},
   "source": [
    "# Module 3 Neural Networks\n",
    "\n",
    "Source of [tutorial](https://pytorch.org/tutorials/beginner/blitz/neural_networks_tutorial.html).\n",
    "\n",
    "Neural networks are created with the `torch.nn` package. Neural networks depend on autograd to define models and differentiate them!\n",
    "\n",
    "`nn.Module` contains layers and method `forward()` (feed forward? Yes!) that returns the output.\n",
    "\n",
    "Simple feed-forward networks takes an input, feeds it/pushes it through several layers, and returns an output.\n",
    "\n",
    "Standard Operating Procedure to train neural networks:\n",
    "1. Define the neural network with learnable parameters(or weights).\n",
    "1. Interate over a dataset of inputs.\n",
    "1. Process input through the network. Feed the data forward.\n",
    "1. Compute the loss (how far is the output from being correct/how far off is the output from reality?)\n",
    "1. Propagate gradients back into the networks parameters.\n",
    "1. Update the weights of the NN, using an update rule: weight = weight * (learning_rate * gradient)"
   ]
  },
  {
   "cell_type": "code",
   "execution_count": 56,
   "metadata": {},
   "outputs": [],
   "source": [
    "# Creating my first neural network! October 7th, 2020 2:59am\n",
    "import torch\n",
    "import torch.nn as nn\n",
    "import torch.nn.functional as F"
   ]
  },
  {
   "cell_type": "code",
   "execution_count": 57,
   "metadata": {},
   "outputs": [],
   "source": [
    "class Net(nn.Module):\n",
    "    \n",
    "    def __init__(self):\n",
    "        super(Net, self).__init__()\n",
    "        # 1 input image channel, 6 output channels, 3x3 square convolution kernel?\n",
    "        self.conv1 = nn.Conv2d(1, 6, 3)\n",
    "        # 6 input image channels, 16 output channels, 3x3 square convolution kernel\n",
    "        self.conv2 = nn.Conv2d(6, 16, 3)\n",
    "        \n",
    "        # Calculate weights for each layer\n",
    "        self.fc1 = nn.Linear(16 * 6 * 6, 120)  # 6*6 from image dimension?\n",
    "        self.fc2 = nn.Linear(120, 84)  # I vaguely remember doing something like this in Deep Learning\n",
    "        self.fc3 = nn.Linear(84, 10)\n",
    "        \n",
    "    def forward(self, x):\n",
    "        # Feeding the inputs forward through the network\n",
    "        # Max pooling over a (2, 2) window\n",
    "        x = F.max_pool2d(F.relu(self.conv1(x)), (2, 2))\n",
    "        # If the size of the window is a square, you can only specify a single number.\n",
    "        x = F.max_pool2d(F.relu(self.conv2(x)), 2)\n",
    "        x = x.view(-1, self.num_flat_features(x))\n",
    "        x = F.relu(self.fc1(x))\n",
    "        x = F.relu(self.fc2(x))\n",
    "        x = self.fc3(x)\n",
    "        return x\n",
    "         \n",
    "    def num_flat_features(self, x):\n",
    "        size = x.size()[1:]  # select all dimensions except for the batch dimension. 16?\n",
    "        num_features = 1\n",
    "        for s in size:\n",
    "            num_features *= s\n",
    "        return num_features"
   ]
  },
  {
   "cell_type": "code",
   "execution_count": 58,
   "metadata": {},
   "outputs": [
    {
     "name": "stdout",
     "output_type": "stream",
     "text": [
      "Net(\n",
      "  (conv1): Conv2d(1, 6, kernel_size=(3, 3), stride=(1, 1))\n",
      "  (conv2): Conv2d(6, 16, kernel_size=(3, 3), stride=(1, 1))\n",
      "  (fc1): Linear(in_features=576, out_features=120, bias=True)\n",
      "  (fc2): Linear(in_features=120, out_features=84, bias=True)\n",
      "  (fc3): Linear(in_features=84, out_features=10, bias=True)\n",
      ")\n"
     ]
    }
   ],
   "source": [
    "net = Net()\n",
    "print(net)"
   ]
  },
  {
   "cell_type": "code",
   "execution_count": 59,
   "metadata": {},
   "outputs": [
    {
     "name": "stdout",
     "output_type": "stream",
     "text": [
      "Number of parameters: 10\n",
      "torch.Size([6, 1, 3, 3])\n",
      "torch.Size([6])\n",
      "torch.Size([16, 6, 3, 3])\n",
      "torch.Size([16])\n",
      "torch.Size([120, 576])\n",
      "torch.Size([120])\n",
      "torch.Size([84, 120])\n",
      "torch.Size([84])\n",
      "torch.Size([10, 84])\n",
      "torch.Size([10])\n"
     ]
    }
   ],
   "source": [
    "# Learnable parameters of a model are returned using `net.parameters()`\n",
    "params = list(net.parameters())\n",
    "print(f\"Number of parameters: {len(params)}\")\n",
    "\n",
    "# Each convolution is collapsed on the number of output channels.\n",
    "for i in range(0, 10):\n",
    "    print(params[i].size())"
   ]
  },
  {
   "cell_type": "markdown",
   "metadata": {},
   "source": [
    "This is interesting. Parameters 0 and 2 hold the weights of conv1 and conv2.\n",
    "Layout of returned parameters at index 0 and 2\n",
    "\n",
    "| Parameter | # Output Channels | # Input Image Channels | Row Length of Convolutional Kernel | Colum Length of Convolution Kernel |\n",
    "|----|----|----|----|----|\n",
    "|params[0]|6|1|3|3|\n",
    "|params[2]|16|6|3|3|"
   ]
  },
  {
   "cell_type": "code",
   "execution_count": 60,
   "metadata": {},
   "outputs": [
    {
     "name": "stdout",
     "output_type": "stream",
     "text": [
      "tensor([[-0.0545, -0.0428, -0.0129,  0.1024, -0.0449,  0.0830, -0.0249, -0.1160,\n",
      "          0.0054,  0.0583]], grad_fn=<AddmmBackward>)\n"
     ]
    }
   ],
   "source": [
    "input_tensor = torch.randn(1, 1, 32, 32)\n",
    "out = net(input_tensor)\n",
    "print(out)"
   ]
  },
  {
   "cell_type": "code",
   "execution_count": 61,
   "metadata": {},
   "outputs": [],
   "source": [
    "net.zero_grad()\n",
    "out.backward(torch.rand(1, 10))"
   ]
  },
  {
   "cell_type": "markdown",
   "metadata": {},
   "source": [
    "`torch.nn` only supports __mini-batches__.\n",
    "Naturally, `torch.nn` only supports inputs that are a mini-batch of samples. No single samples. \"All or none\".\n",
    "\n",
    "`nn.Conv2d` will accept a 4D Tensor of `nSamples` x `nChannels` X `Height` X `Width`. `n_samples` is the number of mini-batached inputs.\n",
    "- If you only have a single sample use `input_tensor.unsqueeze(0)` to add a fake batch dimension.\n",
    "\n",
    "__Summary__\n",
    "\n",
    "`torch.Tensor` A multi-dimensional array with support for autograd operations like backpropagation via `backward()`.\n",
    "\n",
    "`nn.Module` Neural Network Module. Encapsulates parameters, with helpers to move the parameters GPU, exporting, loading.\n",
    "\n",
    "`nn.Parameter` A quasi-Tensor that is automatically registered as a parameter when assigned as an attribute to a `Module`.\n",
    "\n",
    "`autograd.Function` Implements forward and backward definitions of an autograd operation. (Forward Propagation, Backward Propagation) Tensor operations create at least a single Function node that connects to functions that created a Tensor and encodes its memory. That's where we see grad_fn=Sumback, and Multback, AddBakward\n",
    "\n",
    "\n",
    "## Loss Function\n",
    "A loss function takes the (output(PREDICTION), target) pair of inputs and calculates a value that estimates how much the prediction was off from the target."
   ]
  },
  {
   "cell_type": "code",
   "execution_count": 62,
   "metadata": {},
   "outputs": [
    {
     "name": "stdout",
     "output_type": "stream",
     "text": [
      "tensor(1.0083, grad_fn=<MseLossBackward>)\n"
     ]
    }
   ],
   "source": [
    "output = net(input_tensor)\n",
    "target = torch.randn(10)  # Create a dummy target to understand the concept\n",
    "target = target.view(1, -1)  # Use the `.view()` function to reshape the target to have the same shape as the output\n",
    "criterion = nn.MSELoss()\n",
    "\n",
    "loss = criterion(output, target)\n",
    "print(loss)"
   ]
  },
  {
   "cell_type": "code",
   "execution_count": 63,
   "metadata": {},
   "outputs": [
    {
     "name": "stdout",
     "output_type": "stream",
     "text": [
      "<MseLossBackward object at 0x7f90195ac710>\n",
      "<AddmmBackward object at 0x7f90195acb10>\n",
      "<AccumulateGrad object at 0x7f90195ac710>\n"
     ]
    }
   ],
   "source": [
    "print(loss.grad_fn)  # MSELoss\n",
    "print(loss.grad_fn.next_functions[0][0])  # Linear \n",
    "print(loss.grad_fn.next_functions[0][0].next_functions[0][0])  # ReLU is called AccumulateGrad"
   ]
  },
  {
   "cell_type": "markdown",
   "metadata": {},
   "source": [
    "## Backpropagation\n",
    "Use `loss.backward()` to backpropagate the error. Clear the gradients, else gradients will be accumulate with existing gradients."
   ]
  },
  {
   "cell_type": "code",
   "execution_count": 64,
   "metadata": {},
   "outputs": [],
   "source": [
    "net.zero_grad()"
   ]
  },
  {
   "cell_type": "code",
   "execution_count": 65,
   "metadata": {},
   "outputs": [
    {
     "name": "stdout",
     "output_type": "stream",
     "text": [
      "conv1.bais.grad before backward\n",
      "tensor([0., 0., 0., 0., 0., 0.])\n",
      "conv1.base.grad after backward\n",
      "tensor([ 0.0038, -0.0037,  0.0179, -0.0115, -0.0044,  0.0060])\n"
     ]
    }
   ],
   "source": [
    "print('conv1.bais.grad before backward')\n",
    "print(net.conv1.bias.grad)\n",
    "\n",
    "loss.backward()\n",
    "\n",
    "print('conv1.base.grad after backward')\n",
    "print(net.conv1.bias.grad)"
   ]
  },
  {
   "cell_type": "markdown",
   "metadata": {},
   "source": [
    "##  Update the Weights\n",
    "\n",
    "The simplest update rule used in practice is SGD, Stochastic Gradient Descent\n",
    "\n",
    "`weight = weight - gradient * learning_rate`"
   ]
  },
  {
   "cell_type": "code",
   "execution_count": 66,
   "metadata": {},
   "outputs": [],
   "source": [
    "learning_rate = 0.01\n",
    "for f in net.parameters():\n",
    "    f.data.sub_(f.grad.data * learning_rate)  # The weight held in data.sub_ is subtracted from the grad * learning_rate"
   ]
  },
  {
   "cell_type": "code",
   "execution_count": 67,
   "metadata": {},
   "outputs": [],
   "source": [
    "import torch.optim as optim"
   ]
  },
  {
   "cell_type": "code",
   "execution_count": 68,
   "metadata": {},
   "outputs": [],
   "source": [
    "optimizer = optim.SGD(net.parameters(), lr=0.01)\n",
    "\n",
    "optimizer.zero_grad()\n",
    "output = net(input_tensor)\n",
    "loss = criterion(output, target)\n",
    "loss.backward()\n",
    "optimizer.step()"
   ]
  },
  {
   "cell_type": "markdown",
   "metadata": {},
   "source": [
    "# Module 4 Train a Classifier\n",
    "\n",
    "Source of this [tutorial](https://pytorch.org/tutorials/beginner/blitz/cifar10_tutorial.html)."
   ]
  },
  {
   "cell_type": "code",
   "execution_count": 69,
   "metadata": {},
   "outputs": [],
   "source": [
    "import torch\n",
    "import torchvision\n",
    "import torchvision.transforms as transforms"
   ]
  },
  {
   "cell_type": "code",
   "execution_count": 70,
   "metadata": {},
   "outputs": [
    {
     "name": "stdout",
     "output_type": "stream",
     "text": [
      "Files already downloaded and verified\n",
      "Files already downloaded and verified\n"
     ]
    }
   ],
   "source": [
    "transform = transforms.Compose(\n",
    "    [transforms.ToTensor(),\n",
    "     transforms.Normalize((0.5, 0.5, 0.5), (0.5, 0.5, 0.5))])\n",
    "\n",
    "trainset = torchvision.datasets.CIFAR10(root='./data', train=True,\n",
    "                                        download=True, transform=transform)\n",
    "trainloader = torch.utils.data.DataLoader(trainset, batch_size=4,\n",
    "                                          shuffle=True, num_workers=2)\n",
    "\n",
    "testset = torchvision.datasets.CIFAR10(root='./data', train=False,\n",
    "                                       download=True, transform=transform)\n",
    "testloader = torch.utils.data.DataLoader(testset, batch_size=4,\n",
    "                                         shuffle=False, num_workers=2)\n",
    "\n",
    "classes = ('plane', 'car', 'bird', 'cat',\n",
    "           'deer', 'dog', 'frog', 'horse', 'ship', 'truck')\n"
   ]
  },
  {
   "cell_type": "code",
   "execution_count": 71,
   "metadata": {},
   "outputs": [
    {
     "data": {
      "image/png": "[encoded data removed]",
      "text/plain": [
       "<Figure size 432x288 with 1 Axes>"
      ]
     },
     "metadata": {
      "needs_background": "light"
     },
     "output_type": "display_data"
    },
    {
     "name": "stdout",
     "output_type": "stream",
     "text": [
      "     frog      ship      deer      ship\n"
     ]
    }
   ],
   "source": [
    "import matplotlib.pyplot as plt\n",
    "import numpy as np\n",
    "\n",
    "# functions to show an image\n",
    "def imshow(img):\n",
    "    img = img / 2 + 0.5     # unnormalize The images in CIFAR-10 are of size 3 color channels, 32 pixels x 32 pixels\n",
    "    npimg = img.numpy()\n",
    "    plt.imshow(np.transpose(npimg, (1, 2, 0)))\n",
    "    plt.show()\n",
    "\n",
    "\n",
    "# Wrap the trainloader into iter() to randomly select 4 images each time this cell is ran.\n",
    "dataiter = iter(trainloader)\n",
    "# .next() loads the next 4 images each time the cell is ran. This is because the batch size is 4. 4 Images per batch.\n",
    "images, labels = dataiter.next()\n",
    "\n",
    "# show images\n",
    "imshow(torchvision.utils.make_grid(images))\n",
    "# print labels\n",
    "print(' '.join('%9s' % classes[labels[j]] for j in range(4)))"
   ]
  },
  {
   "cell_type": "markdown",
   "metadata": {},
   "source": [
    "##  Define a Convolutional Neural Network"
   ]
  },
  {
   "cell_type": "code",
   "execution_count": 72,
   "metadata": {},
   "outputs": [],
   "source": [
    "import torch.nn\n",
    "import torch.nn.functional as F\n",
    "\n",
    "class Net(nn.Module):\n",
    "    \n",
    "    def __init__(self):\n",
    "        super(Net, self).__init__()\n",
    "        # 1 input image channel, 6 output channels, 5x5 square convolution kernel\n",
    "        self.conv1 = nn.Conv2d(3, 6, 5)\n",
    "        self.pool = nn.MaxPool2d(2, 2)\n",
    "        # 6 input image channels, 16 output channels, 5x5 square convolution kernel\n",
    "        self.conv2 = nn.Conv2d(6, 16, 5)\n",
    "        \n",
    "        # Calculate weights for each layer\n",
    "        self.fc1 = nn.Linear(16 * 5 * 5, 120)  # 5 x 5 image dimension\n",
    "        self.fc2 = nn.Linear(120, 84)\n",
    "        self.fc3 = nn.Linear(84, 10)\n",
    "    \n",
    "    # Passes x through the neural network. Forward Propagation.\n",
    "    def forward(self, x):\n",
    "        # Feeding the inputs forward through the network\n",
    "        # Max pooling over a (2, 2) window\n",
    "        x = self.pool(F.relu(self.conv1(x)))\n",
    "        # If the size of the window is a square, you can only specify a single number.\n",
    "        x = self.pool(F.relu(self.conv2(x)))\n",
    "        x = x.view(-1, self.num_flat_features(x))\n",
    "        x = F.relu(self.fc1(x))\n",
    "        x = F.relu(self.fc2(x))\n",
    "        x = self.fc3(x)\n",
    "        return x\n",
    "    \n",
    "    # This function flattens the dimensions of `x` once passed through function `foward(x)`==forward propagation\n",
    "    def num_flat_features(self, x):\n",
    "        size = x.size()[1:]  # select all dimensions except for the batch dimension. 16?\n",
    "        num_features = 1\n",
    "        for s in size:\n",
    "            num_features *= s\n",
    "        return num_features\n",
    "    \n",
    "net = Net()"
   ]
  },
  {
   "cell_type": "markdown",
   "metadata": {},
   "source": [
    "##  Define a loss function and optimizer"
   ]
  },
  {
   "cell_type": "code",
   "execution_count": 73,
   "metadata": {},
   "outputs": [],
   "source": [
    "criterion = nn.CrossEntropyLoss()\n",
    "optimizer = optim.SGD(net.parameters(), lr=0.001, momentum=0.9)"
   ]
  },
  {
   "cell_type": "markdown",
   "metadata": {},
   "source": [
    "##  Train the network"
   ]
  },
  {
   "cell_type": "code",
   "execution_count": 74,
   "metadata": {},
   "outputs": [
    {
     "name": "stdout",
     "output_type": "stream",
     "text": [
      "[1,  2000] loss: 1.451\n",
      "[1,  4000] loss: 1.238\n",
      "[1,  6000] loss: 1.118\n",
      "[1,  8000] loss: 1.044\n",
      "[1, 10000] loss: 1.013\n",
      "[1, 12000] loss: 0.972\n",
      "Finished Training, Sir - Jarvis\n"
     ]
    }
   ],
   "source": [
    "# Runs n epochs or training iterations\n",
    "# This is the number of times that network trains on the data. In this case 1 time.\n",
    "for epoch in range(1):\n",
    "    # On each iteration, reset the running_loss to 0.\n",
    "    running_loss = 0.0\n",
    "    \n",
    "    \n",
    "    for i, data in enumerate(trainloader, 0):\n",
    "        #get the inputs; data is a list of [inputs, labels]\n",
    "        inputs, labels = data\n",
    "        \n",
    "        # zero/clear out the parameter gradients\n",
    "        optimizer.zero_grad()\n",
    "        \n",
    "        # forward propagation + backward propagation + optimize\n",
    "        # This is where the neural network predicts what the image labels are. `net()` is my neural network.\n",
    "        outputs = net(inputs)\n",
    "        # The loss function calculates the error between the models predictions an the actual target -> Labels!\n",
    "        loss = criterion(outputs, labels)\n",
    "        loss.backward()  # Perform backpropagation so each conv1 layer can 'learn' by updating its weights.\n",
    "        optimizer.step()\n",
    "        \n",
    "        # print statistics\n",
    "        running_loss += loss.item()\n",
    "        if i % 2000 == 1999:\n",
    "            print('[%d, %5d] loss: %.3f' %\n",
    "                  # Prints the current epoch, the number of minibatches processed, and the loss/error from ground truth.\n",
    "                 (epoch + 1, i + 1, running_loss / 3000))\n",
    "            running_loss = 0.0\n",
    "            \n",
    "print(\"Finished Training, Sir - Jarvis\")"
   ]
  },
  {
   "cell_type": "code",
   "execution_count": 75,
   "metadata": {},
   "outputs": [
    {
     "name": "stdout",
     "output_type": "stream",
     "text": [
      "Baseline prediction is 10%\n",
      "Accuracy of the network on the 10,000 train images: 10.06%\n"
     ]
    }
   ],
   "source": [
    "correct = 0\n",
    "total = 0\n",
    "with torch.no_grad():\n",
    "    for data in trainloader:\n",
    "        images, labels = data\n",
    "        ouputs = net(images)\n",
    "        _, predicted = torch.max(outputs.data, 1)\n",
    "        total += labels.size(0)\n",
    "        correct += (predicted == labels).sum().item()\n",
    "\n",
    "print(f\"Baseline prediction is {1/len(classes):.0%}\")\n",
    "print(f\"Accuracy of the network on the 10,000 train images: {correct/total:.2%}\")"
   ]
  },
  {
   "cell_type": "code",
   "execution_count": 76,
   "metadata": {},
   "outputs": [],
   "source": [
    "PATH = './cifar_net.pth'\n",
    "torch.save(net.state_dict(), PATH)"
   ]
  },
  {
   "cell_type": "markdown",
   "metadata": {},
   "source": [
    "##  Train the network on test data!"
   ]
  },
  {
   "cell_type": "code",
   "execution_count": 77,
   "metadata": {},
   "outputs": [
    {
     "data": {
      "image/png": "[encoded data removed]",
      "text/plain": [
       "<Figure size 432x288 with 1 Axes>"
      ]
     },
     "metadata": {
      "needs_background": "light"
     },
     "output_type": "display_data"
    },
    {
     "name": "stdout",
     "output_type": "stream",
     "text": [
      "GroundTruth:    car horse   car  deer\n"
     ]
    }
   ],
   "source": [
    "data = iter(testloader)\n",
    "images, labels = dataiter.next()\n",
    "\n",
    "# display images\n",
    "imshow(torchvision.utils.make_grid(images))\n",
    "print(\"GroundTruth: \", ' '.join('%5s' % classes[labels[j]] for j in range(4)))"
   ]
  },
  {
   "cell_type": "code",
   "execution_count": 78,
   "metadata": {},
   "outputs": [
    {
     "data": {
      "text/plain": [
       "<All keys matched successfully>"
      ]
     },
     "execution_count": 78,
     "metadata": {},
     "output_type": "execute_result"
    }
   ],
   "source": [
    "# Let's reload Jarvis :)\n",
    "# We prepare our neural net for test set evaluation\n",
    "net = Net()\n",
    "\n",
    "# Using `net.load_state_dict()` I can load the PATH saved to the current directory. -> './cifar_net_1.pth'\n",
    "net.load_state_dict(torch.load(PATH))"
   ]
  },
  {
   "cell_type": "code",
   "execution_count": 79,
   "metadata": {},
   "outputs": [],
   "source": [
    "outputs = net(images)"
   ]
  },
  {
   "cell_type": "code",
   "execution_count": 80,
   "metadata": {},
   "outputs": [
    {
     "name": "stdout",
     "output_type": "stream",
     "text": [
      "Predicted:    car horse plane  deer\n"
     ]
    }
   ],
   "source": [
    "_, predicted = torch.max(outputs, 1)\n",
    "\n",
    "print(\"Predicted: \", ' '.join('%5s' % classes[predicted[j]] for j in range(4)))"
   ]
  },
  {
   "cell_type": "code",
   "execution_count": 81,
   "metadata": {},
   "outputs": [
    {
     "name": "stdout",
     "output_type": "stream",
     "text": [
      "Baseline prediction is 10%\n",
      "Accuracy of the network on the 10,000 test images: 9.41%\n"
     ]
    }
   ],
   "source": [
    "correct = 0\n",
    "total = 0\n",
    "with torch.no_grad():\n",
    "    for data in testloader:\n",
    "        images, labels = data\n",
    "        ouputs = net(images)\n",
    "        _, predicted = torch.max(outputs.data, 1)\n",
    "        total += labels.size(0)\n",
    "        correct += (predicted == labels).sum().item()\n",
    "\n",
    "print(f\"Baseline prediction is {1/len(classes):.0%}\")\n",
    "print(f\"Accuracy of the network on the 10,000 test images: {correct/total:.2%}\")  # Interesting...."
   ]
  },
  {
   "cell_type": "code",
   "execution_count": 82,
   "metadata": {},
   "outputs": [
    {
     "name": "stdout",
     "output_type": "stream",
     "text": [
      "Accuracy of plane : 41 %\n",
      "Accuracy of   car : 51 %\n",
      "Accuracy of  bird : 14 %\n",
      "Accuracy of   cat : 37 %\n",
      "Accuracy of  deer : 42 %\n",
      "Accuracy of   dog : 39 %\n",
      "Accuracy of  frog : 57 %\n",
      "Accuracy of horse : 52 %\n",
      "Accuracy of  ship : 79 %\n",
      "Accuracy of truck : 68 %\n"
     ]
    }
   ],
   "source": [
    "class_correct = list(0. for i in range(10))\n",
    "class_total = list(0. for i in range(10))\n",
    "with torch.no_grad():\n",
    "    for data in testloader:\n",
    "        images, labels = data\n",
    "        outputs = net(images)\n",
    "        _, predicted = torch.max(outputs, 1)\n",
    "        c = (predicted == labels).squeeze()\n",
    "        for i in range(4):\n",
    "            label = labels[i]\n",
    "            class_correct[label] += c[i].item()\n",
    "            class_total[label] += 1\n",
    "            \n",
    "for i in range(10):\n",
    "    print(\"Accuracy of %5s : %2d %%\" % (classes[i], 100 * class_correct[i]/class_total[i]))"
   ]
  }
 ],
 "metadata": {
  "kernelspec": {
   "display_name": "Python 3",
   "language": "python",
   "name": "python3"
  },
  "language_info": {
   "codemirror_mode": {
    "name": "ipython",
    "version": 3
   },
   "file_extension": ".py",
   "mimetype": "text/x-python",
   "name": "python",
   "nbconvert_exporter": "python",
   "pygments_lexer": "ipython3",
   "version": "3.7.6"
  }
 },
 "nbformat": 4,
 "nbformat_minor": 4
}
