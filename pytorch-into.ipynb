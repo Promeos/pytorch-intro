{
 "cells": [
  {
   "cell_type": "markdown",
   "metadata": {},
   "source": [
    "# Introduction to Pytorch\n",
    "https://pytorch.org/tutorials/beginner/nlp/pytorch_tutorial.html\n",
    "\n",
    "Notes:\n",
    "- Deep learning uses __tensors__ to perform computations."
   ]
  },
  {
   "cell_type": "code",
   "execution_count": 25,
   "metadata": {},
   "outputs": [],
   "source": [
    "import torch\n",
    "import numpy as np\n",
    "import pandas as pd\n",
    "import torch.autograd as autograd\n",
    "import torch.nn as nn\n",
    "import torch.nn.functional as F\n",
    "import torch.optim as optim\n",
    "\n",
    "torch.manual_seed(1);"
   ]
  },
  {
   "cell_type": "markdown",
   "metadata": {},
   "source": [
    "## Creating Tensors\n",
    "$\\vec{v}$ to $\\mathcal{T}$\n",
    "\n",
    "https://en.wikiversity.org/wiki/Tensors/Definitions\n",
    "\n",
    "https://pytorch.org/docs/stable/tensors.html\n",
    "\n",
    "__Tensors__ can be constructed using:\n",
    "1. List of lists\n",
    "1. `pandas` series\n",
    "1. `numpy` 1D-arrays\n",
    "1. List of numbers in `Python`."
   ]
  },
  {
   "cell_type": "code",
   "execution_count": 26,
   "metadata": {},
   "outputs": [
    {
     "data": {
      "text/plain": [
       "tensor(1)"
      ]
     },
     "execution_count": 26,
     "metadata": {},
     "output_type": "execute_result"
    }
   ],
   "source": [
    "# My first lil' tensor :')\n",
    "torch.tensor(1)"
   ]
  },
  {
   "cell_type": "markdown",
   "metadata": {},
   "source": [
    "Create a Tensor from a Python list"
   ]
  },
  {
   "cell_type": "code",
   "execution_count": 27,
   "metadata": {},
   "outputs": [],
   "source": [
    "data = list(range(0, 10))"
   ]
  },
  {
   "cell_type": "code",
   "execution_count": 28,
   "metadata": {},
   "outputs": [],
   "source": [
    "vector = torch.tensor(data)"
   ]
  },
  {
   "cell_type": "markdown",
   "metadata": {},
   "source": [
    "Create a Tensor Matrix from:\n",
    "1. List of lists\n",
    "1. List of Series\n",
    "1. `numpy` matrix\n",
    "1. `pandas` matrix"
   ]
  },
  {
   "cell_type": "code",
   "execution_count": 29,
   "metadata": {},
   "outputs": [
    {
     "data": {
      "text/plain": [
       "tensor([[1, 2, 3],\n",
       "        [4, 5, 6],\n",
       "        [7, 8, 9]])"
      ]
     },
     "execution_count": 29,
     "metadata": {},
     "output_type": "execute_result"
    }
   ],
   "source": [
    "# List of lists\n",
    "lists = [[1, 2, 3],\n",
    "         [4, 5, 6],\n",
    "         [7, 8, 9]]\n",
    "\n",
    "torch.tensor(lists)"
   ]
  },
  {
   "cell_type": "code",
   "execution_count": 30,
   "metadata": {},
   "outputs": [
    {
     "data": {
      "text/plain": [
       "tensor([[0, 1, 2, 3, 4, 5, 6, 7, 8, 9],\n",
       "        [0, 1, 2, 3, 4, 5, 6, 7, 8, 9],\n",
       "        [0, 1, 2, 3, 4, 5, 6, 7, 8, 9]])"
      ]
     },
     "execution_count": 30,
     "metadata": {},
     "output_type": "execute_result"
    }
   ],
   "source": [
    "# List of Series\n",
    "a = pd.Series(np.arange(0, 10))\n",
    "\n",
    "torch.tensor((a, a, a))"
   ]
  },
  {
   "cell_type": "code",
   "execution_count": 31,
   "metadata": {},
   "outputs": [
    {
     "data": {
      "text/plain": [
       "tensor([[9.0824, 3.1404, 1.4336],\n",
       "        [6.2108, 2.6634, 5.1209],\n",
       "        [4.7748, 5.0115, 6.0705]], dtype=torch.float64)"
      ]
     },
     "execution_count": 31,
     "metadata": {},
     "output_type": "execute_result"
    }
   ],
   "source": [
    "# numpy matrix\n",
    "matrix_A = np.random.uniform(1, 10, size=(3,3))\n",
    "\n",
    "torch.tensor(matrix_A)"
   ]
  },
  {
   "cell_type": "code",
   "execution_count": 32,
   "metadata": {},
   "outputs": [
    {
     "data": {
      "text/plain": [
       "tensor([[11, 40, 44,  8, 94, 92, 15, 91, 37, 48],\n",
       "        [58, 68, 12,  6, 48, 42, 24, 50, 82, 70],\n",
       "        [91, 93, 62, 42, 85, 69, 94, 67, 57, 93],\n",
       "        [68, 36, 68,  2,  9, 27, 42, 31, 83, 31],\n",
       "        [79,  8, 12, 28, 14, 91, 40, 38, 14, 22],\n",
       "        [90, 26, 88, 93, 21, 18, 14, 68, 61,  9],\n",
       "        [86,  9, 82, 40, 62, 85, 40, 79, 28, 63],\n",
       "        [52, 23, 84, 94, 76, 43,  3, 82, 26, 24],\n",
       "        [68, 14, 97, 25, 49, 20, 26, 17, 44, 20],\n",
       "        [ 8, 96, 40, 33, 80, 20,  6,  2, 38, 20]])"
      ]
     },
     "execution_count": 32,
     "metadata": {},
     "output_type": "execute_result"
    }
   ],
   "source": [
    "# pandas matrix\n",
    "matrix_B = pd.DataFrame(\n",
    "    np.random.randint(low=1,high=100,size=(10,10))\n",
    ")\n",
    "\n",
    "# torch.as_tensor(matrix_B) >>> TypeError: not a sequence\n",
    "# torch.tensor(martix_B) >>> TypeError: not a sequence\n",
    "torch.tensor(matrix_B.values)"
   ]
  },
  {
   "cell_type": "markdown",
   "metadata": {},
   "source": [
    "Create a multi-dimensional Tensor from:\n",
    "\n",
    "1. List of lists\n",
    "2. List of Series\n",
    "3. `numpy` matrix\n",
    "4. `pandas` matrix"
   ]
  },
  {
   "cell_type": "code",
   "execution_count": 33,
   "metadata": {},
   "outputs": [
    {
     "data": {
      "text/plain": [
       "torch.Size([3, 3, 3])"
      ]
     },
     "execution_count": 33,
     "metadata": {},
     "output_type": "execute_result"
    }
   ],
   "source": [
    "# List of lists\n",
    "multi_lists = [[[1, 2, 3],\n",
    "                [4, 5, 6],\n",
    "                [7, 8, 9]],\n",
    "               [[1, 2, 3],\n",
    "                [4, 5, 6],\n",
    "                [7, 8, 9]],\n",
    "               [[1, 2, 3],\n",
    "                [4, 5, 6],\n",
    "                [7, 8, 9]]]\n",
    "\n",
    "Tensor = torch.tensor(multi_lists)\n",
    "Tensor.shape"
   ]
  },
  {
   "cell_type": "code",
   "execution_count": 34,
   "metadata": {},
   "outputs": [],
   "source": [
    "# List of Series"
   ]
  },
  {
   "cell_type": "code",
   "execution_count": 35,
   "metadata": {},
   "outputs": [],
   "source": [
    "# numpy matrix/ndarray"
   ]
  },
  {
   "cell_type": "code",
   "execution_count": 36,
   "metadata": {},
   "outputs": [],
   "source": [
    "# pandas matrix"
   ]
  },
  {
   "cell_type": "markdown",
   "metadata": {},
   "source": [
    "# Tensor Indexing\n",
    "\n",
    "What is a multi-dimesional (n-D) tensor?\n",
    "\n",
    "1. A multi-dimesional tensor has matrix indicies\n",
    "2. A matrix has vector indicies\n",
    "3. A vector has scalar indicies\n",
    "\n",
    "\n",
    "## Indexing into a Vector\n",
    "Let's look at this visually, starting with the vector we created, $\\vec{v}$ `vector`."
   ]
  },
  {
   "cell_type": "code",
   "execution_count": 37,
   "metadata": {
    "tags": []
   },
   "outputs": [
    {
     "name": "stdout",
     "output_type": "stream",
     "text": [
      "torch.Size([10])\n",
      "tensor([0, 1, 2, 3, 4, 5, 6, 7, 8, 9])\n"
     ]
    }
   ],
   "source": [
    "print(vector.shape)\n",
    "print(vector)"
   ]
  },
  {
   "cell_type": "markdown",
   "metadata": {},
   "source": [
    "### Vectors, Elements, and Scalars\n",
    "$\\vec{v}$ = \\[0, 1, 2, 3, 4, 5, 6, 7, 8, 9\\]\n",
    "\n",
    "$\\vec{v}$ has a shape of _m_ x _n_ = 10 rows, 1 column\n",
    "\n",
    "__Plain English__:\n",
    "\n",
    "- We have an array with 10 numbers\n",
    "- The shape of the array is 10 rows x 1 column\n",
    "\n",
    "__Explanation__:\n",
    "\n",
    "- We're working with a vector with 10 elements.\n",
    "- The elements are _scalars_ with values 0 - 9.\n",
    "\n",
    "> __Elements__ in _linear algebra_ are also called entries, coefficients, or components.\n",
    ">\n",
    "> * Elements of a vector\n",
    "> * Entries of a vector\n",
    "> * Coefficients of a vector\n",
    "> * Components of a vector\n",
    ">\n",
    "> They all mean the same thing!\n",
    "\n",
    "> To explain this difference between _elements_ and _scalars_, let's imagine you're sitting down to a nice breakfast with your family. \n",
    "\n",
    ">There's pancakes, sausage, toast, yogurt, fruit, bacon, tea, coffee, orange juice, and water. Like a vulture, you circle each platter for the perfect piece and add it to your plate. Once you're finished you take a seat.\n",
    "\n",
    "> 1. Your _plate is the vector_. It holds your delicious breakfast.\n",
    "2. Each piece of fresh food you have on your plate is the _number of elements in your vector_.\n",
    "3. The __name__ of each piece(s) (e.g. 3 strips of bacon, 2 pieces of fruit, 1 dallop of yogurt, 4 pancakes) are your _scalars_!\n",
    "\n",
    ">Food for thought: You have a preference, the pieces on your plate are the direct result of weighted decisions _you make_.\n",
    "\n",
    "> ### Let's setup our vector\n",
    "> How many _elements_ do we have?\n",
    ">-  3 (bacon strips)\n",
    ">- \\+ 2 (pieces of fruit)\n",
    ">- \\+ 1 (dallop of yogurt)\n",
    ">- \\+ 4 (pancakes) \n",
    ">- = 10 (pieces of food)\n",
    " \n",
    ">Let's weight each food item:\n",
    ">- Bacon - 6\n",
    ">- Fruit - 9\n",
    ">- Yogurt - 10\n",
    ">- Pancakes - 11\n",
    "\n",
    ">Let's make our plate:\n",
    ">\n",
    ">$\\vec{plate}$ = \\[6(bacon strip),\n",
    "6(bacon strip),\n",
    "6(bacon strip), 9(fruit), 9(fruit), 10(yogurt), 11(pancake), 11(pancake), 11(pancake), 11(pancake)\\]\n",
    "\n",
    ">Awesome. Let's not forget about our computer's breakfast, I mean _vector_:\n",
    ">\n",
    ">$\\vec{v}$ = \\[6, 6, 6, 9, 9, 10, 11, 11, 11, 11\\]\n",
    "\n",
    "> Help your family with the dishes :)"
   ]
  },
  {
   "cell_type": "code",
   "execution_count": 38,
   "metadata": {
    "tags": []
   },
   "outputs": [
    {
     "name": "stdout",
     "output_type": "stream",
     "text": [
      "tensor(0)\n",
      "<class 'torch.Tensor'>\n"
     ]
    }
   ],
   "source": [
    "# Indexing into a vector results in a single value, our scalar.\n",
    "# n is the number of elements in a vector, in our case 10\n",
    "# ith element in vector is equal to v[i] here i=[1-1],....,i=[n-1]\n",
    "# Here we get a scalar.\n",
    "print(vector[0])\n",
    "print(type(vector[0]))"
   ]
  },
  {
   "cell_type": "code",
   "execution_count": 39,
   "metadata": {
    "tags": []
   },
   "outputs": [
    {
     "name": "stdout",
     "output_type": "stream",
     "text": [
      "0\n"
     ]
    },
    {
     "data": {
      "text/plain": [
       "int"
      ]
     },
     "execution_count": 39,
     "metadata": {},
     "output_type": "execute_result"
    }
   ],
   "source": [
    "# To get a value, we need to pull the scalar out of the vector.\n",
    "print(vector[0].item())\n",
    "type(vector[0].item())"
   ]
  },
  {
   "cell_type": "markdown",
   "metadata": {},
   "source": [
    "### Matrices and Vectors\n",
    "\n",
    "Let's see what our matrix looks like"
   ]
  },
  {
   "cell_type": "code",
   "execution_count": 40,
   "metadata": {
    "tags": []
   },
   "outputs": [
    {
     "name": "stdout",
     "output_type": "stream",
     "text": [
      "<class 'numpy.ndarray'>\n",
      "2 dimensions\n",
      "(3, 3)\n",
      "[[9.08243574 3.14041421 1.43362261]\n",
      " [6.2107605  2.66339374 5.12088437]\n",
      " [4.77475076 5.01145376 6.07047656]]\n"
     ]
    }
   ],
   "source": [
    "print(type(matrix_A))\n",
    "print(matrix_A.ndim, 'dimensions')\n",
    "print(matrix_A.shape)\n",
    "print(matrix_A)"
   ]
  },
  {
   "cell_type": "markdown",
   "metadata": {},
   "source": [
    "## Indexing into the Matrix\n",
    "- Whether you index into a matrix by row or column, you will get a vector.\n",
    "> The size of the vector that is returned depends on the shape of the matrix. If a matrix has a shape of (4, 3)\n",
    "> - Indexing by __row__ yields a vector of size 4.\n",
    "> - Indexing by __column__ returns a vector of size 3."
   ]
  },
  {
   "cell_type": "code",
   "execution_count": 41,
   "metadata": {
    "tags": []
   },
   "outputs": [
    {
     "name": "stdout",
     "output_type": "stream",
     "text": [
      "[9.08243574 3.14041421 1.43362261]\n",
      "(3,)\n"
     ]
    }
   ],
   "source": [
    "# Indexing into our matrix using, well, index/bracket notation :D\n",
    "# The bracket notation returns only column values in the first row\n",
    "# print(matrix_A[0]) \n",
    "print(matrix_A[0,:])  # used explicit index notation\n",
    "print(matrix_A[0].shape)"
   ]
  },
  {
   "cell_type": "code",
   "execution_count": 42,
   "metadata": {
    "tags": []
   },
   "outputs": [
    {
     "name": "stdout",
     "output_type": "stream",
     "text": [
      "(3,)\n",
      "[3.14041421 2.66339374 5.01145376]\n"
     ]
    }
   ],
   "source": [
    "# The bracket notation returns all rows, of the second column.\n",
    "print(matrix_A[:,1].shape)\n",
    "print(matrix_A[:,1])"
   ]
  },
  {
   "cell_type": "markdown",
   "metadata": {},
   "source": [
    "## Indexing into a Tensor"
   ]
  },
  {
   "cell_type": "code",
   "execution_count": 43,
   "metadata": {},
   "outputs": [
    {
     "data": {
      "text/plain": [
       "tensor([[[1, 2, 3],\n",
       "         [4, 5, 6],\n",
       "         [7, 8, 9]],\n",
       "\n",
       "        [[1, 2, 3],\n",
       "         [4, 5, 6],\n",
       "         [7, 8, 9]],\n",
       "\n",
       "        [[1, 2, 3],\n",
       "         [4, 5, 6],\n",
       "         [7, 8, 9]]])"
      ]
     },
     "execution_count": 43,
     "metadata": {},
     "output_type": "execute_result"
    }
   ],
   "source": [
    "# Print out our Tensor\n",
    "Tensor"
   ]
  },
  {
   "cell_type": "code",
   "execution_count": 44,
   "metadata": {},
   "outputs": [
    {
     "name": "stdout",
     "output_type": "stream",
     "text": [
      "3\n",
      "torch.Size([3, 3, 3])\n"
     ]
    }
   ],
   "source": [
    "print(Tensor.ndim)\n",
    "print(Tensor.shape)"
   ]
  },
  {
   "cell_type": "code",
   "execution_count": 45,
   "metadata": {},
   "outputs": [
    {
     "data": {
      "text/plain": [
       "tensor([[1, 2, 3],\n",
       "        [4, 5, 6],\n",
       "        [7, 8, 9]])"
      ]
     },
     "execution_count": 45,
     "metadata": {},
     "output_type": "execute_result"
    }
   ],
   "source": [
    "# Indexing into a Tensor return the first Matrix at index 0!\n",
    "Tensor[0]"
   ]
  },
  {
   "cell_type": "markdown",
   "metadata": {},
   "source": [
    "### Notes\n",
    "\n",
    "* Tensors can be created from other numerical datatypes.\n",
    "    * Similar to numpy and pandas, you can specify the datatype when you create a ndarray or dataframe/series.\n",
    "* Most common datatypes used in Tensors are `float` and `long`.\n",
    "\n",
    "\n",
    "# Creating Random Tensors"
   ]
  },
  {
   "cell_type": "code",
   "execution_count": 56,
   "metadata": {},
   "outputs": [],
   "source": [
    "tensor_A = torch.randn(3, 3)"
   ]
  },
  {
   "cell_type": "code",
   "execution_count": 57,
   "metadata": {},
   "outputs": [],
   "source": [
    "matrix_C = np.random.randn(3, 3)"
   ]
  },
  {
   "cell_type": "code",
   "execution_count": 58,
   "metadata": {},
   "outputs": [
    {
     "data": {
      "text/plain": [
       "tensor([[-0.7228, -0.5294, -0.0600],\n",
       "        [-0.9601, -0.4517,  0.0274],\n",
       "        [-2.3543,  0.6199,  0.0153]], dtype=torch.float64)"
      ]
     },
     "execution_count": 58,
     "metadata": {},
     "output_type": "execute_result"
    }
   ],
   "source": [
    "tensor_A * matrix_C"
   ]
  },
  {
   "cell_type": "markdown",
   "metadata": {},
   "source": [
    "# Tensor Concatenation"
   ]
  },
  {
   "cell_type": "markdown",
   "metadata": {},
   "source": [
    "Cannot concat `torch` dtypes with `numpy` dtypes.\n",
    "``` python\n",
    "torch.cat([tensor_A, matrix_C], 1)\n",
    "#TypeError: expected Tensor as element 1 in argument 0, but got numpy.ndarray\n",
    "```"
   ]
  },
  {
   "cell_type": "markdown",
   "metadata": {},
   "source": [
    "# Tests"
   ]
  },
  {
   "cell_type": "code",
   "execution_count": 27,
   "metadata": {},
   "outputs": [],
   "source": [
    "# torch.tensor?"
   ]
  },
  {
   "cell_type": "code",
   "execution_count": 23,
   "metadata": {},
   "outputs": [
    {
     "data": {
      "text/plain": [
       "tensor([0, 1, 2, 3, 4, 5, 6, 7, 8, 9])"
      ]
     },
     "execution_count": 23,
     "metadata": {},
     "output_type": "execute_result"
    }
   ],
   "source": [
    "a = pd.Series(np.arange(0, 10))\n",
    "\n",
    "# torch.tensor((a, b, c).as_matrix())\n",
    "# torch.cat((a, b, c))\n",
    "\n",
    "torch.tensor(a)"
   ]
  },
  {
   "cell_type": "markdown",
   "metadata": {},
   "source": [
    "``` python\n",
    "np.ndarray(vector) # tensors do not support indexing error.\n",
    "np.array(vector)\n",
    "pd.Series(vector)\n",
    "pd.DataFrame(vector)\n",
    "```"
   ]
  },
  {
   "cell_type": "code",
   "execution_count": 24,
   "metadata": {},
   "outputs": [],
   "source": [
    "T = torch.arange(0, 10_000_000).reshape(1000, 100, 100)\n",
    "M = np.arange(0, 10_000_000).reshape(1000, 100, 100)"
   ]
  },
  {
   "cell_type": "code",
   "execution_count": 25,
   "metadata": {
    "tags": []
   },
   "outputs": [
    {
     "name": "stdout",
     "output_type": "stream",
     "text": [
      "16.2 ms ± 491 µs per loop (mean ± std. dev. of 10 runs, 1000 loops each)\n"
     ]
    }
   ],
   "source": [
    "%%timeit -r 10 -n 1_000\n",
    "1 + T"
   ]
  },
  {
   "cell_type": "code",
   "execution_count": 26,
   "metadata": {
    "tags": []
   },
   "outputs": [
    {
     "name": "stdout",
     "output_type": "stream",
     "text": [
      "16.5 ms ± 282 µs per loop (mean ± std. dev. of 10 runs, 1000 loops each)\n"
     ]
    }
   ],
   "source": [
    "%%timeit -r 10 -n 1_000\n",
    "1 + M"
   ]
  }
 ],
 "metadata": {
  "kernelspec": {
   "display_name": "Python 3",
   "language": "python",
   "name": "python3"
  },
  "language_info": {
   "codemirror_mode": {
    "name": "ipython",
    "version": 3
   },
   "file_extension": ".py",
   "mimetype": "text/x-python",
   "name": "python",
   "nbconvert_exporter": "python",
   "pygments_lexer": "ipython3",
   "version": "3.7.6"
  }
 },
 "nbformat": 4,
 "nbformat_minor": 4
}
