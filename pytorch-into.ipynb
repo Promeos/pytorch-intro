{
 "cells": [
  {
   "cell_type": "markdown",
   "metadata": {},
   "source": [
    "# Introduction to Pytorch\n",
    "https://pytorch.org/tutorials/beginner/nlp/pytorch_tutorial.html\n",
    "\n",
    "Notes:\n",
    "- Deep learning uses __tensors__ to perform computations."
   ]
  },
  {
   "cell_type": "code",
   "execution_count": 1,
   "metadata": {},
   "outputs": [],
   "source": [
    "import torch\n",
    "import numpy as np\n",
    "import pandas as pd\n",
    "import torch.autograd as autograd\n",
    "import torch.nn as nn\n",
    "import torch.nn.functional as F\n",
    "import torch.optim as optim\n",
    "\n",
    "torch.manual_seed(1);"
   ]
  },
  {
   "cell_type": "markdown",
   "metadata": {},
   "source": [
    "## Creating Tensors\n",
    "$\\vec{v}$ to $\\mathcal{T}$\n",
    "\n",
    "https://en.wikiversity.org/wiki/Tensors/Definitions\n",
    "\n",
    "https://pytorch.org/docs/stable/tensors.html\n",
    "\n",
    "__Tensors__ can be constructed using:\n",
    "1. List of lists\n",
    "1. `pandas` series\n",
    "1. `numpy` 1D-arrays\n",
    "1. List of numbers in `Python`."
   ]
  },
  {
   "cell_type": "code",
   "execution_count": 2,
   "metadata": {},
   "outputs": [
    {
     "data": {
      "text/plain": [
       "tensor(1)"
      ]
     },
     "execution_count": 2,
     "metadata": {},
     "output_type": "execute_result"
    }
   ],
   "source": [
    "# My first lil' tensor :')\n",
    "torch.tensor(1)"
   ]
  },
  {
   "cell_type": "markdown",
   "metadata": {},
   "source": [
    "Create a Tensor from a Python list"
   ]
  },
  {
   "cell_type": "code",
   "execution_count": 3,
   "metadata": {},
   "outputs": [],
   "source": [
    "data = list(range(0, 10))"
   ]
  },
  {
   "cell_type": "code",
   "execution_count": 4,
   "metadata": {},
   "outputs": [],
   "source": [
    "vector = torch.tensor(data)"
   ]
  },
  {
   "cell_type": "markdown",
   "metadata": {},
   "source": [
    "Create a Tensor Matrix from:\n",
    "1. List of lists\n",
    "1. List of Series\n",
    "1. `numpy` matrix\n",
    "1. `pandas` matrix"
   ]
  },
  {
   "cell_type": "code",
   "execution_count": 5,
   "metadata": {},
   "outputs": [
    {
     "data": {
      "text/plain": [
       "tensor([[1, 2, 3],\n",
       "        [4, 5, 6],\n",
       "        [7, 8, 9]])"
      ]
     },
     "execution_count": 5,
     "metadata": {},
     "output_type": "execute_result"
    }
   ],
   "source": [
    "# List of lists\n",
    "lists = [[1, 2, 3],\n",
    "         [4, 5, 6],\n",
    "         [7, 8, 9]]\n",
    "\n",
    "torch.tensor(lists)"
   ]
  },
  {
   "cell_type": "code",
   "execution_count": 6,
   "metadata": {},
   "outputs": [
    {
     "data": {
      "text/plain": [
       "tensor([[0, 1, 2, 3, 4, 5, 6, 7, 8, 9],\n",
       "        [0, 1, 2, 3, 4, 5, 6, 7, 8, 9],\n",
       "        [0, 1, 2, 3, 4, 5, 6, 7, 8, 9]])"
      ]
     },
     "execution_count": 6,
     "metadata": {},
     "output_type": "execute_result"
    }
   ],
   "source": [
    "# List of Series\n",
    "a = pd.Series(np.arange(0, 10))\n",
    "\n",
    "torch.tensor((a, a, a))"
   ]
  },
  {
   "cell_type": "code",
   "execution_count": 7,
   "metadata": {},
   "outputs": [
    {
     "data": {
      "text/plain": [
       "tensor([[3.3077, 5.7760, 5.3064],\n",
       "        [4.3870, 7.5955, 5.5795],\n",
       "        [5.1245, 2.7798, 7.5204]], dtype=torch.float64)"
      ]
     },
     "execution_count": 7,
     "metadata": {},
     "output_type": "execute_result"
    }
   ],
   "source": [
    "# numpy matrix\n",
    "matrix_A = np.random.uniform(1, 10, size=(3,3))\n",
    "\n",
    "torch.tensor(matrix_A)"
   ]
  },
  {
   "cell_type": "code",
   "execution_count": 8,
   "metadata": {},
   "outputs": [
    {
     "data": {
      "text/plain": [
       "tensor([[33, 50, 53,  8, 89, 16, 69, 15, 45, 31],\n",
       "        [88, 20, 88, 84, 60,  2, 21, 80, 35, 95],\n",
       "        [21, 48, 36, 27, 22, 17, 28, 25, 65, 28],\n",
       "        [90, 47, 99, 77, 85, 48, 15, 45, 66, 75],\n",
       "        [97, 99, 39, 36,  4, 64, 34, 70, 19, 75],\n",
       "        [97, 11, 98,  2, 77, 34, 36,  8, 47, 63],\n",
       "        [48,  7, 21, 10, 77, 21, 42, 98, 31, 17],\n",
       "        [95,  2, 46, 82, 93, 77, 18,  4, 78, 35],\n",
       "        [60, 64, 56, 53,  5,  7, 96, 18, 41, 26],\n",
       "        [86, 25, 72, 44, 85, 71, 72, 21, 98, 58]])"
      ]
     },
     "execution_count": 8,
     "metadata": {},
     "output_type": "execute_result"
    }
   ],
   "source": [
    "# pandas matrix\n",
    "matrix_B = pd.DataFrame(\n",
    "    np.random.randint(low=1,high=100,size=(10,10))\n",
    ")\n",
    "\n",
    "# torch.as_tensor(matrix_B) >>> TypeError: not a sequence\n",
    "# torch.tensor(martix_B) >>> TypeError: not a sequence\n",
    "torch.tensor(matrix_B.values)"
   ]
  },
  {
   "cell_type": "markdown",
   "metadata": {},
   "source": [
    "Create a multi-dimensional Tensor from:\n",
    "\n",
    "1. List of lists\n",
    "2. List of Series\n",
    "3. `numpy` matrix\n",
    "4. `pandas` matrix"
   ]
  },
  {
   "cell_type": "code",
   "execution_count": 9,
   "metadata": {},
   "outputs": [
    {
     "data": {
      "text/plain": [
       "torch.Size([3, 3, 3])"
      ]
     },
     "execution_count": 9,
     "metadata": {},
     "output_type": "execute_result"
    }
   ],
   "source": [
    "# List of lists\n",
    "multi_lists = [[[1, 2, 3],\n",
    "                [4, 5, 6],\n",
    "                [7, 8, 9]],\n",
    "               [[1, 2, 3],\n",
    "                [4, 5, 6],\n",
    "                [7, 8, 9]],\n",
    "               [[1, 2, 3],\n",
    "                [4, 5, 6],\n",
    "                [7, 8, 9]]]\n",
    "\n",
    "Tensor = torch.tensor(multi_lists)\n",
    "Tensor.shape"
   ]
  },
  {
   "cell_type": "code",
   "execution_count": 10,
   "metadata": {},
   "outputs": [],
   "source": [
    "# List of Series"
   ]
  },
  {
   "cell_type": "code",
   "execution_count": 11,
   "metadata": {},
   "outputs": [],
   "source": [
    "# numpy matrix/ndarray"
   ]
  },
  {
   "cell_type": "code",
   "execution_count": 12,
   "metadata": {},
   "outputs": [],
   "source": [
    "# pandas matrix"
   ]
  },
  {
   "cell_type": "markdown",
   "metadata": {},
   "source": [
    "# Tensor Indexing\n",
    "\n",
    "What is a multi-dimesional (n-D) tensor?\n",
    "\n",
    "1. A multi-dimesional tensor has matrix indicies\n",
    "2. A matrix has vector indicies\n",
    "3. A vector has scalar indicies\n",
    "\n",
    "\n",
    "## Indexing into a Vector\n",
    "Let's look at this visually, starting with the vector we created, $\\vec{v}$ `vector`."
   ]
  },
  {
   "cell_type": "code",
   "execution_count": 13,
   "metadata": {
    "tags": []
   },
   "outputs": [
    {
     "name": "stdout",
     "output_type": "stream",
     "text": [
      "torch.Size([10])\n",
      "tensor([0, 1, 2, 3, 4, 5, 6, 7, 8, 9])\n"
     ]
    }
   ],
   "source": [
    "print(vector.shape)\n",
    "print(vector)"
   ]
  },
  {
   "cell_type": "markdown",
   "metadata": {},
   "source": [
    "### Vectors, Elements, and Scalars\n",
    "$\\vec{v}$ = \\[0, 1, 2, 3, 4, 5, 6, 7, 8, 9\\]\n",
    "\n",
    "$\\vec{v}$ has a shape of _m_ x _n_ = 10 rows, 1 column\n",
    "\n",
    "__Plain English__:\n",
    "\n",
    "- We have an array with 10 numbers\n",
    "- The shape of the array is 10 rows x 1 column\n",
    "\n",
    "__Explanation__:\n",
    "\n",
    "- We're working with a vector with 10 elements.\n",
    "- The elements are _scalars_ with values 0 - 9.\n",
    "\n",
    "> __Elements__ in _linear algebra_ are also called entries, coefficients, or components.\n",
    ">\n",
    "> * Elements of a vector\n",
    "> * Entries of a vector\n",
    "> * Coefficients of a vector\n",
    "> * Components of a vector\n",
    ">\n",
    "> They all mean the same thing!\n",
    "\n",
    "> To explain this difference between _elements_ and _scalars_, let's imagine you're sitting down to a nice breakfast with your family. \n",
    "\n",
    ">There's pancakes, sausage, toast, yogurt, fruit, bacon, tea, coffee, orange juice, and water. Like a vulture, you circle each platter for the perfect piece and add it to your plate. Once you're finished you take a seat.\n",
    "\n",
    "> 1. Your _plate is the vector_. It holds your delicious breakfast.\n",
    "2. Each piece of fresh food you have on your plate is the _number of elements in your vector_.\n",
    "3. The __name__ of each piece(s) (e.g. 3 strips of bacon, 2 pieces of fruit, 1 dallop of yogurt, 4 pancakes) are your _scalars_!\n",
    "\n",
    ">Food for thought: You have a preference, the pieces on your plate are the direct result of weighted decisions _you make_.\n",
    "\n",
    "> ### Let's setup our vector\n",
    "> How many _elements_ do we have?\n",
    ">-  3 (bacon strips)\n",
    ">- \\+ 2 (pieces of fruit)\n",
    ">- \\+ 1 (dallop of yogurt)\n",
    ">- \\+ 4 (pancakes) \n",
    ">- = 10 (pieces of food)\n",
    " \n",
    ">Let's weight each food item:\n",
    ">- Bacon - 6\n",
    ">- Fruit - 9\n",
    ">- Yogurt - 10\n",
    ">- Pancakes - 11\n",
    "\n",
    ">Let's make our plate:\n",
    ">\n",
    ">$\\vec{plate}$ = \\[6(bacon strip),\n",
    "6(bacon strip),\n",
    "6(bacon strip), 9(fruit), 9(fruit), 10(yogurt), 11(pancake), 11(pancake), 11(pancake), 11(pancake)\\]\n",
    "\n",
    ">Awesome. Let's not forget about our computer's breakfast, I mean _vector_:\n",
    ">\n",
    ">$\\vec{v}$ = \\[6, 6, 6, 9, 9, 10, 11, 11, 11, 11\\]\n",
    "\n",
    "> Help your family with the dishes :)"
   ]
  },
  {
   "cell_type": "code",
   "execution_count": 14,
   "metadata": {
    "tags": []
   },
   "outputs": [
    {
     "name": "stdout",
     "output_type": "stream",
     "text": [
      "tensor(0)\n",
      "<class 'torch.Tensor'>\n"
     ]
    }
   ],
   "source": [
    "# Indexing into a vector results in a single value, our scalar.\n",
    "# n is the number of elements in a vector, in our case 10\n",
    "# ith element in vector is equal to v[i] here i=[1-1],....,i=[n-1]\n",
    "# Here we get a scalar.\n",
    "print(vector[0])\n",
    "print(type(vector[0]))"
   ]
  },
  {
   "cell_type": "code",
   "execution_count": 15,
   "metadata": {
    "tags": []
   },
   "outputs": [
    {
     "name": "stdout",
     "output_type": "stream",
     "text": [
      "0\n"
     ]
    },
    {
     "data": {
      "text/plain": [
       "int"
      ]
     },
     "execution_count": 15,
     "metadata": {},
     "output_type": "execute_result"
    }
   ],
   "source": [
    "# To get a value, we need to pull the scalar out of the vector.\n",
    "print(vector[0].item())\n",
    "type(vector[0].item())"
   ]
  },
  {
   "cell_type": "markdown",
   "metadata": {},
   "source": [
    "### Matrices and Vectors\n",
    "\n",
    "Let's see what our matrix looks like"
   ]
  },
  {
   "cell_type": "code",
   "execution_count": 16,
   "metadata": {
    "tags": []
   },
   "outputs": [
    {
     "name": "stdout",
     "output_type": "stream",
     "text": [
      "<class 'numpy.ndarray'>\n",
      "2 dimensions\n",
      "(3, 3)\n",
      "[[3.30769998 5.77604548 5.30635634]\n",
      " [4.3869716  7.59554647 5.57953718]\n",
      " [5.12452874 2.77976516 7.52037903]]\n"
     ]
    }
   ],
   "source": [
    "print(type(matrix_A))\n",
    "print(matrix_A.ndim, 'dimensions')\n",
    "print(matrix_A.shape)\n",
    "print(matrix_A)"
   ]
  },
  {
   "cell_type": "markdown",
   "metadata": {},
   "source": [
    "## Indexing into the Matrix\n",
    "- Whether you index into a matrix by row or column, you will get a vector.\n",
    "> The size of the vector that is returned depends on the shape of the matrix. If a matrix has a shape of (4, 3)\n",
    "> - Indexing by __row__ yields a vector of size 4.\n",
    "> - Indexing by __column__ returns a vector of size 3."
   ]
  },
  {
   "cell_type": "code",
   "execution_count": 17,
   "metadata": {
    "tags": []
   },
   "outputs": [
    {
     "name": "stdout",
     "output_type": "stream",
     "text": [
      "[3.30769998 5.77604548 5.30635634]\n",
      "(3,)\n"
     ]
    }
   ],
   "source": [
    "# Indexing into our matrix using, well, index/bracket notation :D\n",
    "# The bracket notation returns only column values in the first row\n",
    "# print(matrix_A[0]) \n",
    "print(matrix_A[0,:])  # used explicit index notation\n",
    "print(matrix_A[0].shape)"
   ]
  },
  {
   "cell_type": "code",
   "execution_count": 18,
   "metadata": {
    "tags": []
   },
   "outputs": [
    {
     "name": "stdout",
     "output_type": "stream",
     "text": [
      "(3,)\n",
      "[5.77604548 7.59554647 2.77976516]\n"
     ]
    }
   ],
   "source": [
    "# The bracket notation returns all rows, of the second column.\n",
    "print(matrix_A[:,1].shape)\n",
    "print(matrix_A[:,1])"
   ]
  },
  {
   "cell_type": "markdown",
   "metadata": {},
   "source": [
    "## Indexing into a Tensor"
   ]
  },
  {
   "cell_type": "code",
   "execution_count": 19,
   "metadata": {},
   "outputs": [
    {
     "data": {
      "text/plain": [
       "tensor([[[1, 2, 3],\n",
       "         [4, 5, 6],\n",
       "         [7, 8, 9]],\n",
       "\n",
       "        [[1, 2, 3],\n",
       "         [4, 5, 6],\n",
       "         [7, 8, 9]],\n",
       "\n",
       "        [[1, 2, 3],\n",
       "         [4, 5, 6],\n",
       "         [7, 8, 9]]])"
      ]
     },
     "execution_count": 19,
     "metadata": {},
     "output_type": "execute_result"
    }
   ],
   "source": [
    "# Print out our Tensor\n",
    "Tensor"
   ]
  },
  {
   "cell_type": "code",
   "execution_count": 20,
   "metadata": {},
   "outputs": [
    {
     "name": "stdout",
     "output_type": "stream",
     "text": [
      "3\n",
      "torch.Size([3, 3, 3])\n"
     ]
    }
   ],
   "source": [
    "print(Tensor.ndim)\n",
    "print(Tensor.shape)"
   ]
  },
  {
   "cell_type": "code",
   "execution_count": 21,
   "metadata": {},
   "outputs": [
    {
     "data": {
      "text/plain": [
       "tensor([[1, 2, 3],\n",
       "        [4, 5, 6],\n",
       "        [7, 8, 9]])"
      ]
     },
     "execution_count": 21,
     "metadata": {},
     "output_type": "execute_result"
    }
   ],
   "source": [
    "# Indexing into a Tensor return the first Matrix at index 0!\n",
    "Tensor[0]"
   ]
  },
  {
   "cell_type": "markdown",
   "metadata": {},
   "source": [
    "### Notes\n",
    "\n",
    "* Tensors can be created from other numerical datatypes.\n",
    "    * Similar to numpy and pandas, you can specify the datatype when you create a ndarray or dataframe/series.\n",
    "* Most common datatypes used in Tensors are `float` and `long`.\n",
    "\n",
    "\n",
    "# Creating Random Tensors"
   ]
  },
  {
   "cell_type": "code",
   "execution_count": 22,
   "metadata": {},
   "outputs": [],
   "source": [
    "tensor_A = torch.randn(3, 3)"
   ]
  },
  {
   "cell_type": "code",
   "execution_count": 23,
   "metadata": {},
   "outputs": [],
   "source": [
    "matrix_C = np.random.randn(3, 3)"
   ]
  },
  {
   "cell_type": "code",
   "execution_count": 24,
   "metadata": {},
   "outputs": [
    {
     "data": {
      "text/plain": [
       "tensor([[-0.1968,  0.0980, -0.1498],\n",
       "        [ 0.7367,  0.4604, -0.1053],\n",
       "        [ 1.4843,  0.1995,  0.3717]], dtype=torch.float64)"
      ]
     },
     "execution_count": 24,
     "metadata": {},
     "output_type": "execute_result"
    }
   ],
   "source": [
    "tensor_A * matrix_C"
   ]
  },
  {
   "cell_type": "markdown",
   "metadata": {},
   "source": [
    "# Tensor Operations\n",
    "https://pytorch.org/docs/stable/torch.html"
   ]
  },
  {
   "cell_type": "code",
   "execution_count": 28,
   "metadata": {},
   "outputs": [
    {
     "name": "stdout",
     "output_type": "stream",
     "text": [
      "tensor([ 6.,  8., 10.])\n"
     ]
    }
   ],
   "source": [
    "x = torch.tensor([1, 2, 3])\n",
    "y = torch.tensor([5., 6., 7.])\n",
    "z = x + y\n",
    "print(z)"
   ]
  },
  {
   "cell_type": "code",
   "execution_count": 34,
   "metadata": {},
   "outputs": [
    {
     "data": {
      "text/plain": [
       "torch.float32"
      ]
     },
     "execution_count": 34,
     "metadata": {},
     "output_type": "execute_result"
    }
   ],
   "source": [
    "torch.get_default_dtype()"
   ]
  },
  {
   "cell_type": "code",
   "execution_count": 35,
   "metadata": {},
   "outputs": [
    {
     "data": {
      "text/plain": [
       "3"
      ]
     },
     "execution_count": 35,
     "metadata": {},
     "output_type": "execute_result"
    }
   ],
   "source": [
    "z.numel()"
   ]
  },
  {
   "cell_type": "code",
   "execution_count": 55,
   "metadata": {},
   "outputs": [
    {
     "data": {
      "text/plain": [
       "tensor([ 1.0000,  1.4737,  1.9474,  2.4211,  2.8947,  3.3684,  3.8421,  4.3158,\n",
       "         4.7895,  5.2632,  5.7368,  6.2105,  6.6842,  7.1579,  7.6316,  8.1053,\n",
       "         8.5789,  9.0526,  9.5263, 10.0000], dtype=torch.float64)"
      ]
     },
     "execution_count": 55,
     "metadata": {},
     "output_type": "execute_result"
    }
   ],
   "source": [
    "torch.from_numpy(np.linspace(1, 10, 20))"
   ]
  },
  {
   "cell_type": "code",
   "execution_count": 58,
   "metadata": {},
   "outputs": [
    {
     "data": {
      "text/plain": [
       "tensor([ 1.0000,  1.4737,  1.9474,  2.4211,  2.8947,  3.3684,  3.8421,  4.3158,\n",
       "         4.7895,  5.2632,  5.7368,  6.2105,  6.6842,  7.1579,  7.6316,  8.1053,\n",
       "         8.5789,  9.0526,  9.5263, 10.0000])"
      ]
     },
     "execution_count": 58,
     "metadata": {},
     "output_type": "execute_result"
    }
   ],
   "source": [
    "torch.linspace(1, 10, 20)"
   ]
  },
  {
   "cell_type": "code",
   "execution_count": 57,
   "metadata": {},
   "outputs": [
    {
     "data": {
      "text/plain": [
       "tensor([1, 2, 3, 4, 5, 6, 7, 8, 9])"
      ]
     },
     "execution_count": 57,
     "metadata": {},
     "output_type": "execute_result"
    }
   ],
   "source": [
    "torch.arange(1, 10)"
   ]
  },
  {
   "cell_type": "markdown",
   "metadata": {},
   "source": [
    "# Tensor Concatenation"
   ]
  },
  {
   "cell_type": "markdown",
   "metadata": {},
   "source": [
    "Cannot concat `torch` dtypes with `numpy` dtypes.\n",
    "``` python\n",
    "torch.cat([tensor_A, matrix_C], 1)\n",
    "#TypeError: expected Tensor as element 1 in argument 0, but got numpy.ndarray\n",
    "```"
   ]
  },
  {
   "cell_type": "code",
   "execution_count": 40,
   "metadata": {},
   "outputs": [],
   "source": [
    "# Using torch.as_tensor() to tansform numpy array to a tensor.\n",
    "tensor_C = torch.as_tensor(matrix_C)"
   ]
  },
  {
   "cell_type": "code",
   "execution_count": 43,
   "metadata": {},
   "outputs": [
    {
     "name": "stdout",
     "output_type": "stream",
     "text": [
      "Column Tensor Join\n"
     ]
    },
    {
     "data": {
      "text/plain": [
       "tensor([[ 0.6614,  0.2669,  0.0617, -0.2975,  0.3670, -2.4284],\n",
       "        [ 0.6213, -0.4519, -0.1661,  1.1858, -1.0188,  0.6341],\n",
       "        [-1.5228,  0.3817, -1.0276, -0.9747,  0.5227, -0.3617]],\n",
       "       dtype=torch.float64)"
      ]
     },
     "execution_count": 43,
     "metadata": {},
     "output_type": "execute_result"
    }
   ],
   "source": [
    "# Like pd.concat(), you can specify the axis you want to join the\n",
    "# tensors on.\n",
    "print(\"Column Tensor Join\")\n",
    "torch.cat([tensor_A, tensor_C], axis=1)"
   ]
  },
  {
   "cell_type": "code",
   "execution_count": 44,
   "metadata": {},
   "outputs": [
    {
     "name": "stdout",
     "output_type": "stream",
     "text": [
      "Row Tensor Join\n"
     ]
    },
    {
     "data": {
      "text/plain": [
       "tensor([[ 0.6614,  0.2669,  0.0617],\n",
       "        [ 0.6213, -0.4519, -0.1661],\n",
       "        [-1.5228,  0.3817, -1.0276],\n",
       "        [-0.2975,  0.3670, -2.4284],\n",
       "        [ 1.1858, -1.0188,  0.6341],\n",
       "        [-0.9747,  0.5227, -0.3617]], dtype=torch.float64)"
      ]
     },
     "execution_count": 44,
     "metadata": {},
     "output_type": "execute_result"
    }
   ],
   "source": [
    "print(\"Row Tensor Join\")\n",
    "torch.cat([tensor_A, tensor_C], axis=0)"
   ]
  },
  {
   "cell_type": "markdown",
   "metadata": {},
   "source": [
    "# Reshaping Tensors"
   ]
  },
  {
   "cell_type": "code",
   "execution_count": 64,
   "metadata": {},
   "outputs": [
    {
     "name": "stdout",
     "output_type": "stream",
     "text": [
      "Original Tensor N-Dimensions: 3\n",
      "Reshaped Tensor N-Dimensions: 2\n"
     ]
    }
   ],
   "source": [
    "# There are 24 elements in this tensor\n",
    "tensor_x = torch.randn(2, 3, 4)\n",
    "\n",
    "# .view() is equivalent of pd.reshape().\n",
    "# Using .view() on a tensor to remove a dimension\n",
    "tensor_x_view = tensor_x.view(2, 12)\n",
    "\n",
    "print('Original Tensor N-Dimensions:', tensor_x.ndim)\n",
    "print('Reshaped Tensor N-Dimensions:', tensor_x_view.ndim)"
   ]
  },
  {
   "cell_type": "code",
   "execution_count": 67,
   "metadata": {},
   "outputs": [
    {
     "name": "stdout",
     "output_type": "stream",
     "text": [
      "Another way to reshape a tensor: torch.Size([2, 12])\n"
     ]
    }
   ],
   "source": [
    "# -1 in view will cause torch to infer the dimension.\n",
    "tensor_x_view2 = tensor_x.view(2, -1)\n",
    "print(\"Another way to reshape a tensor:\", tensor_x_view2.shape)"
   ]
  },
  {
   "cell_type": "markdown",
   "metadata": {},
   "source": [
    "# Computation Graphs and Automatic Differentiation\n",
    "\n",
    "Computation graphs are essential to efficient deep learning programming.\n",
    "- The programmer doesn't need to write the backpropagation\n",
    "Computation graphs shows how your tensors are/were combined to give you the output.\n",
    "- Specifies what parameters were involved in creating a tensor.\n",
    "- Computation graphs can be used to calculate derivatives.\n",
    "> `requires_grad` must be set to `True` in order to calculate derivatives and perform backpropagation.\n",
    ">\n",
    ">\"...All this output tensor knows is its data and shape. It has no idea that it was the sum of two other tensors (it could have been read in from a file, it could be the result of some other operation, etc.)\n",
    ">\n",
    ">If `requires_grad`=`True`, the Tensor object keeps track of how it was created. Lets see it in action.\""
   ]
  },
  {
   "cell_type": "code",
   "execution_count": 87,
   "metadata": {},
   "outputs": [
    {
     "name": "stdout",
     "output_type": "stream",
     "text": [
      "tensor([13., 12., 29., 87., 20.], grad_fn=<AddBackward0>)\n",
      "<AddBackward0 object at 0x7f85cb4044d0>\n"
     ]
    }
   ],
   "source": [
    "x = torch.tensor([6., 9., 4., 3., 8.], requires_grad=True)\n",
    "y = torch.tensor([7., 3., 25., 84., 12.], requires_grad=True)\n",
    "z = x + y\n",
    "print(z)\n",
    "print(z.grad_fn)"
   ]
  },
  {
   "cell_type": "code",
   "execution_count": 88,
   "metadata": {},
   "outputs": [
    {
     "name": "stdout",
     "output_type": "stream",
     "text": [
      "tensor(161., grad_fn=<SumBackward0>)\n",
      "<SumBackward0 object at 0x7f85cb3e93d0>\n"
     ]
    }
   ],
   "source": [
    "s = z.sum()\n",
    "print(s)\n",
    "print(s.grad_fn)"
   ]
  },
  {
   "cell_type": "code",
   "execution_count": 89,
   "metadata": {},
   "outputs": [
    {
     "name": "stdout",
     "output_type": "stream",
     "text": [
      "tensor([1., 1., 1., 1., 1.])\n"
     ]
    }
   ],
   "source": [
    "# \"...note if you run this block multiple times, the gradient will\n",
    "# increment. That is because Pytorch accumulates the gradient into\n",
    "# the .grad property, since for many models this is very convenient.\"\n",
    "s.backward()\n",
    "print(x.grad)"
   ]
  },
  {
   "cell_type": "markdown",
   "metadata": {},
   "source": [
    "# The Cornerstone Fundamentals\n",
    "##### \\*\\*\\*Crucial for being a successful programmer in deep learning***\n",
    "Tensors \"know\" how they were created when `requires_grad` = `True`\n",
    "\n",
    "### Tensors without Backpropagation: `requires_grad=False`"
   ]
  },
  {
   "cell_type": "code",
   "execution_count": 121,
   "metadata": {},
   "outputs": [],
   "source": [
    "a = torch.randn(4, 4)\n",
    "b = torch.randn(4, 4)\n",
    "c = a + b"
   ]
  },
  {
   "cell_type": "code",
   "execution_count": 122,
   "metadata": {},
   "outputs": [
    {
     "name": "stdout",
     "output_type": "stream",
     "text": [
      "Does Tensor `a` have grad? False\n",
      "Does Tensor `b` have grad? False\n",
      "Does Tensor `c` have grad? False\n"
     ]
    }
   ],
   "source": [
    "print(f\"Does Tensor `a` have grad? {a.requires_grad}\")\n",
    "print(f\"Does Tensor `b` have grad? {b.requires_grad}\")\n",
    "print(f\"Does Tensor `c` have grad? {c.requires_grad}\")"
   ]
  },
  {
   "cell_type": "markdown",
   "metadata": {},
   "source": [
    "If a tensor is created without setting `requires_grad` = True, tensors created from \"grad-less\" tensors will be unable to perform derivatives. No derivatives, no backpropagation.\n",
    "\n",
    "### Tensors _with_ Backpropagation: `requires_grad=True`"
   ]
  },
  {
   "cell_type": "code",
   "execution_count": 139,
   "metadata": {},
   "outputs": [
    {
     "data": {
      "text/plain": [
       "tensor([[-0.9965,  0.8073,  1.1739, -0.9398],\n",
       "        [ 0.3861,  1.0473, -0.7327, -0.9168],\n",
       "        [ 0.6867,  0.4209, -1.0214,  0.9886],\n",
       "        [ 0.7806, -2.2049, -1.4975, -0.9023]], requires_grad=True)"
      ]
     },
     "execution_count": 139,
     "metadata": {},
     "output_type": "execute_result"
    }
   ],
   "source": [
    "# Method `requires_grad_() sets requires_grad = True, inplace.\n",
    "a.requires_grad_()\n",
    "b.requires_grad_()"
   ]
  },
  {
   "cell_type": "code",
   "execution_count": 140,
   "metadata": {},
   "outputs": [
    {
     "data": {
      "text/plain": [
       "tensor([[-0.7821, -1.4237,  1.6091, -0.0328],\n",
       "        [-0.4327, -0.1150,  1.7964, -0.4774],\n",
       "        [-2.7188, -0.2219,  0.3421,  1.1093],\n",
       "        [-0.5276,  0.0849,  0.1945, -0.9418]], requires_grad=True)"
      ]
     },
     "execution_count": 140,
     "metadata": {},
     "output_type": "execute_result"
    }
   ],
   "source": [
    "# Seperate cells to show `requires_grad_()` changes the Tensors\n",
    "# inplace.\n",
    "a"
   ]
  },
  {
   "cell_type": "code",
   "execution_count": 141,
   "metadata": {},
   "outputs": [
    {
     "data": {
      "text/plain": [
       "tensor([[-0.9965,  0.8073,  1.1739, -0.9398],\n",
       "        [ 0.3861,  1.0473, -0.7327, -0.9168],\n",
       "        [ 0.6867,  0.4209, -1.0214,  0.9886],\n",
       "        [ 0.7806, -2.2049, -1.4975, -0.9023]], requires_grad=True)"
      ]
     },
     "execution_count": 141,
     "metadata": {},
     "output_type": "execute_result"
    }
   ],
   "source": [
    "b"
   ]
  },
  {
   "cell_type": "code",
   "execution_count": 142,
   "metadata": {},
   "outputs": [
    {
     "name": "stdout",
     "output_type": "stream",
     "text": [
      "<AddBackward0 object at 0x7f85d0a57d50>\n",
      "True\n"
     ]
    }
   ],
   "source": [
    "c = a + b\n",
    "print(c.grad_fn)  # Our Tensors know how they were created!\n",
    "print(c.requires_grad)"
   ]
  },
  {
   "cell_type": "markdown",
   "metadata": {},
   "source": [
    "### Removing autograd from Tensors"
   ]
  },
  {
   "cell_type": "code",
   "execution_count": 143,
   "metadata": {},
   "outputs": [],
   "source": [
    "# Using tensor.detach(), we can remove the values/scalars from\n",
    "# a tensor without its 'memory' (ability to tell how it was created)\n",
    "new_c = c.detach()"
   ]
  },
  {
   "cell_type": "code",
   "execution_count": 144,
   "metadata": {},
   "outputs": [
    {
     "name": "stdout",
     "output_type": "stream",
     "text": [
      "False\n",
      "None\n"
     ]
    }
   ],
   "source": [
    "# new_c is not as cool as old 'c', it cannot perform backpropagation.\n",
    "\n",
    "# \"In essence, we have broken the Tensor away from its past history\"\n",
    "\n",
    "\n",
    "print(new_c.requires_grad)\n",
    "print(new_c.grad_fn)"
   ]
  },
  {
   "cell_type": "code",
   "execution_count": 147,
   "metadata": {},
   "outputs": [
    {
     "name": "stdout",
     "output_type": "stream",
     "text": [
      "False\n"
     ]
    }
   ],
   "source": [
    "# wrap the code block tensor\n",
    "with torch.no_grad():\n",
    "    print((x * 42).requires_grad)"
   ]
  },
  {
   "cell_type": "markdown",
   "metadata": {},
   "source": [
    "A tensor that is not operated on, changed, transformed inside the body of the `with` statement will be __unchanged__ if `requires_grad=True`.\n",
    "``` python\n",
    "with torch.no_grad():\n",
    "    print(x.requires_grad)\n",
    "```\n",
    "\\>\\>\\> __True__"
   ]
  },
  {
   "cell_type": "markdown",
   "metadata": {},
   "source": [
    "# Tests"
   ]
  },
  {
   "cell_type": "code",
   "execution_count": 27,
   "metadata": {},
   "outputs": [],
   "source": [
    "# torch.tensor?"
   ]
  },
  {
   "cell_type": "code",
   "execution_count": 23,
   "metadata": {},
   "outputs": [
    {
     "data": {
      "text/plain": [
       "tensor([0, 1, 2, 3, 4, 5, 6, 7, 8, 9])"
      ]
     },
     "execution_count": 23,
     "metadata": {},
     "output_type": "execute_result"
    }
   ],
   "source": [
    "a = pd.Series(np.arange(0, 10))\n",
    "\n",
    "# torch.tensor((a, b, c).as_matrix())\n",
    "# torch.cat((a, b, c))\n",
    "\n",
    "torch.tensor(a)"
   ]
  },
  {
   "cell_type": "markdown",
   "metadata": {},
   "source": [
    "``` python\n",
    "np.ndarray(vector) # tensors do not support indexing error.\n",
    "np.array(vector)\n",
    "pd.Series(vector)\n",
    "pd.DataFrame(vector)\n",
    "```"
   ]
  },
  {
   "cell_type": "code",
   "execution_count": 24,
   "metadata": {},
   "outputs": [],
   "source": [
    "T = torch.arange(0, 10_000_000).reshape(1000, 100, 100)\n",
    "M = np.arange(0, 10_000_000).reshape(1000, 100, 100)"
   ]
  },
  {
   "cell_type": "code",
   "execution_count": 25,
   "metadata": {
    "tags": []
   },
   "outputs": [
    {
     "name": "stdout",
     "output_type": "stream",
     "text": [
      "16.2 ms ± 491 µs per loop (mean ± std. dev. of 10 runs, 1000 loops each)\n"
     ]
    }
   ],
   "source": [
    "%%timeit -r 10 -n 1_000\n",
    "1 + T"
   ]
  },
  {
   "cell_type": "code",
   "execution_count": 26,
   "metadata": {
    "tags": []
   },
   "outputs": [
    {
     "name": "stdout",
     "output_type": "stream",
     "text": [
      "16.5 ms ± 282 µs per loop (mean ± std. dev. of 10 runs, 1000 loops each)\n"
     ]
    }
   ],
   "source": [
    "%%timeit -r 10 -n 1_000\n",
    "1 + M"
   ]
  }
 ],
 "metadata": {
  "kernelspec": {
   "display_name": "Python 3",
   "language": "python",
   "name": "python3"
  },
  "language_info": {
   "codemirror_mode": {
    "name": "ipython",
    "version": 3
   },
   "file_extension": ".py",
   "mimetype": "text/x-python",
   "name": "python",
   "nbconvert_exporter": "python",
   "pygments_lexer": "ipython3",
   "version": "3.7.6"
  }
 },
 "nbformat": 4,
 "nbformat_minor": 4
}
