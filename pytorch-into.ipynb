{
 "cells": [
  {
   "cell_type": "markdown",
   "metadata": {},
   "source": [
    "# Introduction to Pytorch\n",
    "https://pytorch.org/tutorials/beginner/nlp/pytorch_tutorial.html\n",
    "\n",
    "Notes:\n",
    "- Deep learning uses __tensors__ to perform computations."
   ]
  },
  {
   "cell_type": "code",
   "execution_count": 13,
   "metadata": {},
   "outputs": [],
   "source": [
    "import torch\n",
    "import torch.autograd as autograd\n",
    "import torch.nn as nn\n",
    "import torch.nn.functional as F\n",
    "import torch.optim as optim\n",
    "import numpy as np\n",
    "import pandas as pd\n",
    "\n",
    "torch.manual_seed(1);"
   ]
  },
  {
   "cell_type": "markdown",
   "metadata": {},
   "source": [
    "## Creating Tensors\n",
    "$\\vec{v}$ to $\\mathcal{T}$\n",
    "\n",
    "https://en.wikiversity.org/wiki/Tensors/Definitions\n",
    "\n",
    "https://pytorch.org/docs/stable/tensors.html\n",
    "\n",
    "__Tensors__ can be constructed using:\n",
    "1. List of lists\n",
    "1. `pandas` series\n",
    "1. `numpy` 1D-arrays\n",
    "1. List of numbers in `Python`."
   ]
  },
  {
   "cell_type": "code",
   "execution_count": 14,
   "metadata": {},
   "outputs": [
    {
     "output_type": "execute_result",
     "data": {
      "text/plain": "tensor(1)"
     },
     "metadata": {},
     "execution_count": 14
    }
   ],
   "source": [
    "# My first lil' tensor :')\n",
    "torch.tensor(1)"
   ]
  },
  {
   "cell_type": "markdown",
   "metadata": {},
   "source": [
    "Create a Tensor from a Python list"
   ]
  },
  {
   "cell_type": "code",
   "execution_count": 15,
   "metadata": {},
   "outputs": [],
   "source": [
    "data = list(range(0, 10))"
   ]
  },
  {
   "cell_type": "code",
   "execution_count": 16,
   "metadata": {},
   "outputs": [],
   "source": [
    "vector = torch.tensor(data)"
   ]
  },
  {
   "cell_type": "markdown",
   "metadata": {},
   "source": [
    "Create a Tensor Matrix from:\n",
    "1. List of lists\n",
    "1. List of Series\n",
    "1. `numpy` matrix\n",
    "1. `pandas` matrix"
   ]
  },
  {
   "cell_type": "code",
   "execution_count": 17,
   "metadata": {},
   "outputs": [
    {
     "output_type": "execute_result",
     "data": {
      "text/plain": "tensor([[1, 2, 3],\n        [4, 5, 6],\n        [7, 8, 9]])"
     },
     "metadata": {},
     "execution_count": 17
    }
   ],
   "source": [
    "# List of lists\n",
    "lists = [[1, 2, 3],\n",
    "         [4, 5, 6],\n",
    "         [7, 8, 9]]\n",
    "\n",
    "torch.tensor(lists)"
   ]
  },
  {
   "cell_type": "code",
   "execution_count": 18,
   "metadata": {},
   "outputs": [
    {
     "output_type": "execute_result",
     "data": {
      "text/plain": "tensor([[0, 1, 2, 3, 4, 5, 6, 7, 8, 9],\n        [0, 1, 2, 3, 4, 5, 6, 7, 8, 9],\n        [0, 1, 2, 3, 4, 5, 6, 7, 8, 9]])"
     },
     "metadata": {},
     "execution_count": 18
    }
   ],
   "source": [
    "# List of Series\n",
    "a = pd.Series(np.arange(0, 10))\n",
    "\n",
    "torch.tensor((a, a, a))"
   ]
  },
  {
   "cell_type": "code",
   "execution_count": 19,
   "metadata": {},
   "outputs": [
    {
     "output_type": "execute_result",
     "data": {
      "text/plain": "tensor([[9.6162, 9.6506, 4.9820],\n        [6.7036, 4.2751, 2.8464],\n        [3.9134, 1.0935, 9.3289]], dtype=torch.float64)"
     },
     "metadata": {},
     "execution_count": 19
    }
   ],
   "source": [
    "# numpy matrix\n",
    "matrix_A = np.random.uniform(1, 10, size=(3,3))\n",
    "\n",
    "torch.tensor(matrix_A)"
   ]
  },
  {
   "cell_type": "code",
   "execution_count": 20,
   "metadata": {},
   "outputs": [
    {
     "output_type": "execute_result",
     "data": {
      "text/plain": "tensor([[54, 79, 79,  7, 19, 61, 38, 84, 57, 94],\n        [44, 76, 69, 29, 49,  3, 22,  1, 72, 96],\n        [44, 13, 27,  4, 78, 31, 81, 10, 52, 36],\n        [63, 50, 66, 16, 75, 34, 94, 45, 19, 71],\n        [39, 44, 91, 96, 11, 88, 86, 23, 63, 26],\n        [ 2, 43, 66, 57, 55, 39, 85, 72, 69,  3],\n        [16, 97, 30, 60, 70, 60, 71, 92, 43, 70],\n        [38, 61, 32, 72, 50, 95, 87, 30, 99, 12],\n        [11, 68, 72, 36, 95, 54, 29, 20, 53, 50],\n        [71, 76, 23, 37, 99, 66, 19, 56, 28,  8]])"
     },
     "metadata": {},
     "execution_count": 20
    }
   ],
   "source": [
    "# pandas matrix\n",
    "matrix_B = pd.DataFrame(\n",
    "    np.random.randint(low=1,high=100,size=(10,10))\n",
    ")\n",
    "\n",
    "# torch.as_tensor(matrix_B) >>> TypeError: not a sequence\n",
    "# torch.tensor(martix_B) >>> TypeError: not a sequence\n",
    "torch.tensor(matrix_B.values)"
   ]
  },
  {
   "cell_type": "markdown",
   "metadata": {},
   "source": [
    "Create a multi-dimensional Tensor from:\n",
    "\n",
    "1. List of lists\n",
    "2. List of Series\n",
    "3. `numpy` matrix\n",
    "4. `pandas` matrix"
   ]
  },
  {
   "cell_type": "code",
   "execution_count": 35,
   "metadata": {},
   "outputs": [
    {
     "output_type": "execute_result",
     "data": {
      "text/plain": "torch.Size([3, 3, 3])"
     },
     "metadata": {},
     "execution_count": 35
    }
   ],
   "source": [
    "# List of lists\n",
    "multi_lists = [[[1, 2, 3],\n",
    "                [4, 5, 6],\n",
    "                [7, 8, 9]],\n",
    "               [[1, 2, 3],\n",
    "                [4, 5, 6],\n",
    "                [7, 8, 9]],\n",
    "               [[1, 2, 3],\n",
    "                [4, 5, 6],\n",
    "                [7, 8, 9]]]\n",
    "\n",
    "torch.tensor(multi_lists).shape"
   ]
  },
  {
   "cell_type": "code",
   "execution_count": 36,
   "metadata": {},
   "outputs": [],
   "source": [
    "# List of Series"
   ]
  },
  {
   "cell_type": "code",
   "execution_count": 37,
   "metadata": {},
   "outputs": [],
   "source": [
    "# numpy matrix/ndarray"
   ]
  },
  {
   "cell_type": "code",
   "execution_count": 38,
   "metadata": {},
   "outputs": [],
   "source": [
    "# pandas matrix"
   ]
  },
  {
   "source": [
    "# Tensor Indexing\n",
    "\n",
    "What is a multi-dimesional (n-D) tensor?\n",
    "\n",
    "1. A multi-dimesional tensor has matrix indicies\n",
    "2. A matrix has vector indicies\n",
    "3. A vector has scalar indicies\n",
    "\n",
    "Let's look at this visually, starting with the vector we created, $\\vec{v}$ `vector`."
   ],
   "cell_type": "markdown",
   "metadata": {}
  },
  {
   "cell_type": "code",
   "execution_count": 39,
   "metadata": {
    "tags": []
   },
   "outputs": [
    {
     "output_type": "stream",
     "name": "stdout",
     "text": "torch.Size([10])\ntensor([0, 1, 2, 3, 4, 5, 6, 7, 8, 9])\n"
    }
   ],
   "source": [
    "print(vector.shape)\n",
    "print(vector)"
   ]
  },
  {
   "source": [
    "### Vectors, Elements, and Scalars\n",
    "$\\vec{v}$ = \\[0, 1, 2, 3, 4, 5, 6, 7, 8, 9\\]\n",
    "\n",
    "$\\vec{v}$ has a shape of _m_ x _n_ = 10 rows, 1 column\n",
    "\n",
    "__Plain English__:\n",
    "\n",
    "- We have an array with 10 numbers\n",
    "- The shape of the array is 10 rows x 1 column\n",
    "\n",
    "__Explanation__:\n",
    "\n",
    "- We're working with a vector with 10 elements.\n",
    "- The elements are _scalars_ with values 0 - 9.\n",
    "\n",
    "> __Elements__ in _linear algebra_ are also called entries, coefficients, or components.\n",
    "\n",
    "> 1. Elements of a vector\n",
    "2. Entries of a vector\n",
    "3. Coefficients of a vector\n",
    "4. Components of a vector\n",
    "\n",
    "> They all mean the same thing!\n",
    "\n",
    "> To explain this difference between _elements_ and _scalars_, let's imagine you're sitting down to a nice breakfast with your family. \n",
    "\n",
    ">There's pancakes, sausage, toast, yogurt, fruit, bacon, tea, coffee, orange juice, and water. Like a vulture, you circle each platter for the perfect piece and add it to your plate. Once you're finished you take a seat.\n",
    "\n",
    "> 1. Your _plate is the vector_. It holds your delicious breakfast.\n",
    "2. Each piece of fresh food you have on your plate is the _number of elements in your vector_.\n",
    "3. The __name__ of each piece(s) (e.g. 3 strips of bacon, 2 pieces of fruit, 1 dallop of yogurt, 4 pancakes) are your _scalars_!\n",
    "\n",
    ">Food for thought: You have a preference, the pieces on your plate are the direct result of weighted decisions _you make_.\n",
    "\n",
    "> ## Let's setup our vector\n",
    "> How many _elements_ do we have?\n",
    " \n",
    "> 3 (bacon strips)\n",
    "\n",
    "> 2 (pieces of fruit)\n",
    "\n",
    "> 1 (dallop of yogurt)\n",
    " \n",
    "> 4 (pancakes)\n",
    "\n",
    "> \\----------------------\n",
    "\n",
    "> 10 (pieces of food)\n",
    " \n",
    ">Let's weight each food item:\n",
    "- Bacon - 6\n",
    "- Fruit - 9\n",
    "- Yogurt - 10\n",
    "- Pancakes - 11\n",
    "\n",
    ">Let's make our plate:\n",
    "\n",
    ">$\\vec{plate}$ = \\[6(bacon strip),\n",
    "6(bacon strip),\n",
    "6(bacon strip), 9(fruit), 9(fruit), 10(yogurt), 11(panacke), 11(pancake), 11(pancake), 11(pancake)\\]\n",
    "\n",
    ">Awesome. Let's not forget about our computer's breakfast, I mean _vector_:\n",
    "\n",
    ">$\\vec{v}$ = \\[6, 6, 6, 9, 9, 10, 11, 11, 11, 11\\]\n",
    "\n",
    "> Help your family with the dishes :)"
   ],
   "cell_type": "markdown",
   "metadata": {}
  },
  {
   "cell_type": "code",
   "execution_count": 47,
   "metadata": {
    "tags": []
   },
   "outputs": [
    {
     "output_type": "stream",
     "name": "stdout",
     "text": "tensor(0)\n<class 'torch.Tensor'>\n"
    }
   ],
   "source": [
    "# Indexing into a vector results in a single value, our scalar.\n",
    "# n is the number of elements in a vector, in our case 10\n",
    "# ith element in vector is equal to v[i] here i=[1-1],....,i=[n-1]\n",
    "# Here we get a scalar.\n",
    "print(vector[0])\n",
    "print(type(vector[0]))"
   ]
  },
  {
   "cell_type": "code",
   "execution_count": 46,
   "metadata": {
    "tags": []
   },
   "outputs": [
    {
     "output_type": "stream",
     "name": "stdout",
     "text": "0\n"
    },
    {
     "output_type": "execute_result",
     "data": {
      "text/plain": "int"
     },
     "metadata": {},
     "execution_count": 46
    }
   ],
   "source": [
    "# To get a value, we need to pull the scalar out of the vector.\n",
    "print(vector[0].item())\n",
    "type(vector[0].item())"
   ]
  },
  {
   "source": [
    "### Matrices and Vectors\n",
    "\n",
    "Let's see what our matrix looks like"
   ],
   "cell_type": "markdown",
   "metadata": {}
  },
  {
   "cell_type": "code",
   "execution_count": 54,
   "metadata": {
    "tags": []
   },
   "outputs": [
    {
     "output_type": "stream",
     "name": "stdout",
     "text": "<class 'numpy.ndarray'>\n2 dimensions\n(3, 3)\n[[9.6161819  9.65057624 4.98202805]\n [6.70362615 4.27509393 2.84638953]\n [3.91337981 1.09353844 9.32885306]]\n"
    }
   ],
   "source": [
    "print(type(matrix_A))\n",
    "print(matrix_A.ndim, 'dimensions')\n",
    "print(matrix_A.shape)\n",
    "print(matrix_A)"
   ]
  },
  {
   "source": [
    "### Indexing into the Matrix, Neo\n",
    "\n",
    "- notes to add properties of indexing into a Matrix: row-wise, column-wise\n",
    "- shape of the returned indexes"
   ],
   "cell_type": "markdown",
   "metadata": {}
  },
  {
   "cell_type": "code",
   "execution_count": 66,
   "metadata": {
    "tags": []
   },
   "outputs": [
    {
     "output_type": "stream",
     "name": "stdout",
     "text": "[9.6161819  9.65057624 4.98202805]\n(3,)\n"
    }
   ],
   "source": [
    "# Indexing into our matrix using, well, index/bracket notation :D\n",
    "# The bracket notation returns only column values in the first row\n",
    "# print(matrix_A[0]) \n",
    "print(matrix_A[0,:])  # used explicit index notation\n",
    "print(matrix_A[0].shape)"
   ]
  },
  {
   "cell_type": "code",
   "execution_count": 67,
   "metadata": {
    "tags": []
   },
   "outputs": [
    {
     "output_type": "stream",
     "name": "stdout",
     "text": "(3,)\n[9.65057624 4.27509393 1.09353844]\n"
    }
   ],
   "source": [
    "# The bracket notation returns all rows, of the second column.\n",
    "print(matrix_A[:,1].shape)\n",
    "print(matrix_A[:,1])"
   ]
  },
  {
   "cell_type": "markdown",
   "metadata": {},
   "source": [
    "Tests"
   ]
  },
  {
   "cell_type": "code",
   "execution_count": 27,
   "metadata": {},
   "outputs": [],
   "source": [
    "# torch.tensor?"
   ]
  },
  {
   "cell_type": "code",
   "execution_count": 23,
   "metadata": {},
   "outputs": [
    {
     "output_type": "execute_result",
     "data": {
      "text/plain": "tensor([0, 1, 2, 3, 4, 5, 6, 7, 8, 9])"
     },
     "metadata": {},
     "execution_count": 23
    }
   ],
   "source": [
    "a = pd.Series(np.arange(0, 10))\n",
    "\n",
    "# torch.tensor((a, b, c).as_matrix())\n",
    "# torch.cat((a, b, c))\n",
    "\n",
    "torch.tensor(a)"
   ]
  },
  {
   "cell_type": "markdown",
   "metadata": {},
   "source": [
    "``` python\n",
    "np.ndarray(vector) # tensors do not support indexing error.\n",
    "np.array(vector)\n",
    "pd.Series(vector)\n",
    "pd.DataFrame(vector)\n",
    "```"
   ]
  },
  {
   "cell_type": "code",
   "execution_count": 24,
   "metadata": {},
   "outputs": [],
   "source": [
    "T = torch.arange(0, 10_000_000).reshape(1000, 100, 100)\n",
    "M = np.arange(0, 10_000_000).reshape(1000, 100, 100)"
   ]
  },
  {
   "cell_type": "code",
   "execution_count": 25,
   "metadata": {
    "tags": []
   },
   "outputs": [
    {
     "output_type": "stream",
     "name": "stdout",
     "text": "16.2 ms ± 491 µs per loop (mean ± std. dev. of 10 runs, 1000 loops each)\n"
    }
   ],
   "source": [
    "%%timeit -r 10 -n 1_000\n",
    "1 + T"
   ]
  },
  {
   "cell_type": "code",
   "execution_count": 26,
   "metadata": {
    "tags": []
   },
   "outputs": [
    {
     "output_type": "stream",
     "name": "stdout",
     "text": "16.5 ms ± 282 µs per loop (mean ± std. dev. of 10 runs, 1000 loops each)\n"
    }
   ],
   "source": [
    "%%timeit -r 10 -n 1_000\n",
    "1 + M"
   ]
  }
 ],
 "metadata": {
  "kernelspec": {
   "display_name": "Python 3.7.6 64-bit ('base': conda)",
   "language": "python",
   "name": "python_defaultSpec_1600248447286"
  },
  "language_info": {
   "codemirror_mode": {
    "name": "ipython",
    "version": 3
   },
   "file_extension": ".py",
   "mimetype": "text/x-python",
   "name": "python",
   "nbconvert_exporter": "python",
   "pygments_lexer": "ipython3",
   "version": "3.7.6-final"
  }
 },
 "nbformat": 4,
 "nbformat_minor": 4
}