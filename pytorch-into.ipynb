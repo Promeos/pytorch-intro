{
 "cells": [
  {
   "cell_type": "markdown",
   "metadata": {},
   "source": [
    "# Introduction to Pytorch\n",
    "https://pytorch.org/tutorials/beginner/nlp/pytorch_tutorial.html\n",
    "\n",
    "Notes:\n",
    "- Deep learning uses __tensors__ to perform computations."
   ]
  },
  {
   "cell_type": "code",
   "execution_count": 2,
   "metadata": {},
   "outputs": [],
   "source": [
    "import torch\n",
    "import torch.autograd as autograd\n",
    "import torch.nn as nn\n",
    "import torch.nn.functional as F\n",
    "import torch.optim as optim\n",
    "import numpy as np\n",
    "import pandas as pd\n",
    "\n",
    "torch.manual_seed(1);"
   ]
  },
  {
   "cell_type": "markdown",
   "metadata": {},
   "source": [
    "## Creating Tensors\n",
    "$\\vec{v}$ to $\\mathcal{T}$\n",
    "\n",
    "https://en.wikiversity.org/wiki/Tensors/Definitions\n",
    "\n",
    "https://pytorch.org/docs/stable/tensors.html\n",
    "\n",
    "__Tensors__ can be constructed using:\n",
    "1. List of lists\n",
    "1. `pandas` series\n",
    "1. `numpy` 1D-arrays\n",
    "1. List of numbers in `Python`."
   ]
  },
  {
   "cell_type": "code",
   "execution_count": 3,
   "metadata": {},
   "outputs": [
    {
     "data": {
      "text/plain": [
       "tensor(1)"
      ]
     },
     "execution_count": 3,
     "metadata": {},
     "output_type": "execute_result"
    }
   ],
   "source": [
    "# My first lil tensor :')\n",
    "torch.tensor(1)"
   ]
  },
  {
   "cell_type": "markdown",
   "metadata": {},
   "source": [
    "Create a Tensor from a Python list"
   ]
  },
  {
   "cell_type": "code",
   "execution_count": 4,
   "metadata": {},
   "outputs": [],
   "source": [
    "data = list(range(0, 10))"
   ]
  },
  {
   "cell_type": "code",
   "execution_count": 5,
   "metadata": {},
   "outputs": [],
   "source": [
    "vector = torch.tensor(data)"
   ]
  },
  {
   "cell_type": "markdown",
   "metadata": {},
   "source": [
    "Create a Tensor Matrix from:\n",
    "1. List of lists\n",
    "1. List of Series\n",
    "1. `numpy` matrix\n",
    "1. `pandas` matrix"
   ]
  },
  {
   "cell_type": "code",
   "execution_count": 53,
   "metadata": {},
   "outputs": [
    {
     "data": {
      "text/plain": [
       "tensor([[1, 2, 3],\n",
       "        [4, 5, 6],\n",
       "        [7, 8, 9]])"
      ]
     },
     "execution_count": 53,
     "metadata": {},
     "output_type": "execute_result"
    }
   ],
   "source": [
    "# List of lists\n",
    "lists = [[1, 2, 3],\n",
    "         [4, 5, 6],\n",
    "         [7, 8, 9]]\n",
    "\n",
    "torch.tensor(lists)"
   ]
  },
  {
   "cell_type": "code",
   "execution_count": 64,
   "metadata": {},
   "outputs": [
    {
     "data": {
      "text/plain": [
       "tensor([[0, 1, 2, 3, 4, 5, 6, 7, 8, 9],\n",
       "        [0, 1, 2, 3, 4, 5, 6, 7, 8, 9],\n",
       "        [0, 1, 2, 3, 4, 5, 6, 7, 8, 9]])"
      ]
     },
     "execution_count": 64,
     "metadata": {},
     "output_type": "execute_result"
    }
   ],
   "source": [
    "# List of Series\n",
    "a = pd.Series(np.arange(0, 10))\n",
    "\n",
    "torch.tensor((a, a, a))"
   ]
  },
  {
   "cell_type": "code",
   "execution_count": 23,
   "metadata": {},
   "outputs": [
    {
     "data": {
      "text/plain": [
       "tensor([[4.6373, 7.9764, 4.7976],\n",
       "        [3.2350, 8.9028, 1.1303],\n",
       "        [7.0170, 5.8797, 4.0584]], dtype=torch.float64)"
      ]
     },
     "execution_count": 23,
     "metadata": {},
     "output_type": "execute_result"
    }
   ],
   "source": [
    "# numpy matrix\n",
    "matrix_A = np.random.uniform(1, 10, size=(3,3))\n",
    "\n",
    "torch.tensor(matrix_A)"
   ]
  },
  {
   "cell_type": "code",
   "execution_count": 51,
   "metadata": {},
   "outputs": [
    {
     "data": {
      "text/plain": [
       "tensor([[47,  5, 15, 92, 23, 32, 70, 83, 82, 17],\n",
       "        [33, 32, 90, 84, 87, 84, 18, 80, 70, 90],\n",
       "        [94,  5, 49, 95, 32,  5, 71, 50,  2, 40],\n",
       "        [18,  2, 71, 76,  6, 60, 71, 25,  2, 22],\n",
       "        [21, 64, 33, 41, 85,  9, 40, 40, 10, 42],\n",
       "        [34, 14, 14, 66, 15, 31, 33, 90, 56,  7],\n",
       "        [64, 52,  6, 29, 11, 10, 94, 95, 30, 81],\n",
       "        [65, 21, 60, 52, 22, 61, 21, 85, 59, 21],\n",
       "        [56, 61, 70, 16, 71, 82, 85, 25,  3, 29],\n",
       "        [76, 93,  7, 45, 26, 64, 67, 22, 71, 12]])"
      ]
     },
     "execution_count": 51,
     "metadata": {},
     "output_type": "execute_result"
    }
   ],
   "source": [
    "# pandas matrix\n",
    "matrix_B = pd.DataFrame(\n",
    "    np.random.randint(low=1,high=100,size=(10,10))\n",
    ")\n",
    "\n",
    "# torch.as_tensor(matrix_B) >>> TypeError: not a sequence\n",
    "# torch.tensor(martix_B) >>> TypeError: not a sequence\n",
    "torch.tensor(matrix_B.values)"
   ]
  },
  {
   "cell_type": "markdown",
   "metadata": {},
   "source": [
    "Create a multi-dimensional Tensor from:\n",
    "1. List of lists\n",
    "1. List of Series\n",
    "1. `numpy` matrix\n",
    "1. `pandas` matrix"
   ]
  },
  {
   "cell_type": "code",
   "execution_count": 65,
   "metadata": {},
   "outputs": [
    {
     "data": {
      "text/plain": [
       "tensor([[[1, 2, 3],\n",
       "         [4, 5, 6],\n",
       "         [7, 8, 9]],\n",
       "\n",
       "        [[1, 2, 3],\n",
       "         [4, 5, 6],\n",
       "         [7, 8, 9]],\n",
       "\n",
       "        [[1, 2, 3],\n",
       "         [4, 5, 6],\n",
       "         [7, 8, 9]]])"
      ]
     },
     "execution_count": 65,
     "metadata": {},
     "output_type": "execute_result"
    }
   ],
   "source": [
    "# List of lists\n",
    "multi_lists = [[[1, 2, 3],\n",
    "                [4, 5, 6],\n",
    "                [7, 8, 9]],\n",
    "               [[1, 2, 3],\n",
    "                [4, 5, 6],\n",
    "                [7, 8, 9]],\n",
    "               [[1, 2, 3],\n",
    "                [4, 5, 6],\n",
    "                [7, 8, 9]]]\n",
    "\n",
    "torch.tensor(multi_lists)"
   ]
  },
  {
   "cell_type": "code",
   "execution_count": 60,
   "metadata": {},
   "outputs": [],
   "source": [
    "torch.tensor?"
   ]
  },
  {
   "cell_type": "code",
   "execution_count": 66,
   "metadata": {},
   "outputs": [
    {
     "data": {
      "text/plain": [
       "tensor([0, 1, 2, 3, 4, 5, 6, 7, 8, 9])"
      ]
     },
     "execution_count": 66,
     "metadata": {},
     "output_type": "execute_result"
    }
   ],
   "source": [
    "a = pd.Series(np.arange(0, 10))\n",
    "\n",
    "# torch.tensor((a, b, c).as_matrix())\n",
    "# torch.cat((a, b, c))\n",
    "\n",
    "torch.tensor(a)"
   ]
  },
  {
   "cell_type": "markdown",
   "metadata": {},
   "source": [
    "Tests"
   ]
  },
  {
   "cell_type": "markdown",
   "metadata": {},
   "source": [
    "``` python\n",
    "np.ndarray(vector) # tensors do not support indexing error.\n",
    "np.array(vector)\n",
    "pd.Series(vector)\n",
    "pd.DataFrame(vector)\n",
    "```"
   ]
  },
  {
   "cell_type": "code",
   "execution_count": 67,
   "metadata": {},
   "outputs": [],
   "source": [
    "T = torch.arange(0, 10_000_000).reshape(1000, 100, 100)\n",
    "M = np.arange(0, 10_000_000).reshape(1000, 100, 100)"
   ]
  },
  {
   "cell_type": "code",
   "execution_count": 76,
   "metadata": {},
   "outputs": [
    {
     "name": "stdout",
     "output_type": "stream",
     "text": [
      "15.4 ms ± 337 µs per loop (mean ± std. dev. of 10 runs, 1000 loops each)\n"
     ]
    }
   ],
   "source": [
    "%%timeit -r 10 -n 1_000\n",
    "1 + T"
   ]
  },
  {
   "cell_type": "code",
   "execution_count": 77,
   "metadata": {},
   "outputs": [
    {
     "name": "stdout",
     "output_type": "stream",
     "text": [
      "16.8 ms ± 143 µs per loop (mean ± std. dev. of 10 runs, 1000 loops each)\n"
     ]
    }
   ],
   "source": [
    "%%timeit -r 10 -n 1_000\n",
    "1 + M"
   ]
  }
 ],
 "metadata": {
  "kernelspec": {
   "display_name": "Python 3",
   "language": "python",
   "name": "python3"
  },
  "language_info": {
   "codemirror_mode": {
    "name": "ipython",
    "version": 3
   },
   "file_extension": ".py",
   "mimetype": "text/x-python",
   "name": "python",
   "nbconvert_exporter": "python",
   "pygments_lexer": "ipython3",
   "version": "3.7.6"
  }
 },
 "nbformat": 4,
 "nbformat_minor": 4
}
